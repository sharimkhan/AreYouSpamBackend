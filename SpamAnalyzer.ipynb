{
 "cells": [
  {
   "cell_type": "markdown",
   "metadata": {},
   "source": [
    "This Notebook Contains the code that analyzes the dataset for most commonly used spam words "
   ]
  },
  {
   "cell_type": "markdown",
   "metadata": {},
   "source": [
    "The following loads in the dataset of tweets"
   ]
  },
  {
   "cell_type": "code",
   "execution_count": 1,
   "metadata": {
    "collapsed": false
   },
   "outputs": [
    {
     "data": {
      "text/html": [
       "<div>\n",
       "<style>\n",
       "    .dataframe thead tr:only-child th {\n",
       "        text-align: right;\n",
       "    }\n",
       "\n",
       "    .dataframe thead th {\n",
       "        text-align: left;\n",
       "    }\n",
       "\n",
       "    .dataframe tbody tr th {\n",
       "        vertical-align: top;\n",
       "    }\n",
       "</style>\n",
       "<table border=\"1\" class=\"dataframe\">\n",
       "  <thead>\n",
       "    <tr style=\"text-align: right;\">\n",
       "      <th></th>\n",
       "      <th>0</th>\n",
       "      <th>b'People should not have to worry about being shot while shopping or attending school. This is getting ridiculous. Co https://t.co/83LVF1URjk'</th>\n",
       "    </tr>\n",
       "  </thead>\n",
       "  <tbody>\n",
       "    <tr>\n",
       "      <th>0</th>\n",
       "      <td>0</td>\n",
       "      <td>b'I Need To Go Shopping! I Need New Clothes '</td>\n",
       "    </tr>\n",
       "    <tr>\n",
       "      <th>1</th>\n",
       "      <td>0</td>\n",
       "      <td>b'@hawillisdc I am still shopping for a good s...</td>\n",
       "    </tr>\n",
       "    <tr>\n",
       "      <th>2</th>\n",
       "      <td>0</td>\n",
       "      <td>b'Funny, you start charging a $1 deposit for s...</td>\n",
       "    </tr>\n",
       "    <tr>\n",
       "      <th>3</th>\n",
       "      <td>0</td>\n",
       "      <td>b'Entre tapas &amp;amp; tapas &amp;amp; socos &amp;amp; ch...</td>\n",
       "    </tr>\n",
       "    <tr>\n",
       "      <th>4</th>\n",
       "      <td>0</td>\n",
       "      <td>b'Google Shopping Via Image Optimization:Secre...</td>\n",
       "    </tr>\n",
       "  </tbody>\n",
       "</table>\n",
       "</div>"
      ],
      "text/plain": [
       "   0  \\\n",
       "0  0   \n",
       "1  0   \n",
       "2  0   \n",
       "3  0   \n",
       "4  0   \n",
       "\n",
       "  b'People should not have to worry about being shot while shopping or attending school. This is getting ridiculous. Co https://t.co/83LVF1URjk'  \n",
       "0      b'I Need To Go Shopping! I Need New Clothes '                                                                                              \n",
       "1  b'@hawillisdc I am still shopping for a good s...                                                                                              \n",
       "2  b'Funny, you start charging a $1 deposit for s...                                                                                              \n",
       "3  b'Entre tapas &amp; tapas &amp; socos &amp; ch...                                                                                              \n",
       "4  b'Google Shopping Via Image Optimization:Secre...                                                                                              "
      ]
     },
     "execution_count": 1,
     "metadata": {},
     "output_type": "execute_result"
    }
   ],
   "source": [
    "import pandas as pd\n",
    "import numpy as np\n",
    "from sklearn.externals import joblib\n",
    "df = pd.read_table(\"results1.txt\",sep=\",\")\n",
    "df = df.drop(df.columns[df.columns.str.contains('unnamed',case = False)],axis = 1)\n",
    "df.head()"
   ]
  },
  {
   "cell_type": "code",
   "execution_count": 3,
   "metadata": {
    "collapsed": false
   },
   "outputs": [
    {
     "name": "stdout",
     "output_type": "stream",
     "text": [
      "13058\n"
     ]
    }
   ],
   "source": [
    "print(len(df))"
   ]
  },
  {
   "cell_type": "markdown",
   "metadata": {},
   "source": [
    "The bag of words method was implemented using the CountVectorizer method from SciKit Learn"
   ]
  },
  {
   "cell_type": "code",
   "execution_count": 4,
   "metadata": {
    "collapsed": true
   },
   "outputs": [],
   "source": [
    "from sklearn.feature_extraction.text import CountVectorizer\n",
    "count_vector = CountVectorizer(stop_words='english',min_df = 0.001)\n",
    "df.columns = ['label', 'tweet']"
   ]
  },
  {
   "cell_type": "markdown",
   "metadata": {},
   "source": [
    "The following sorts every word in tweets labeled spam by frequency. The most frequent words are giveaway(1587), away(1537), click(1428), crypotcurrency(1124), and win(903). "
   ]
  },
  {
   "cell_type": "code",
   "execution_count": 17,
   "metadata": {
    "collapsed": false
   },
   "outputs": [
    {
     "name": "stdout",
     "output_type": "stream",
     "text": [
      "[('https', 8333), ('giveaway', 1587), ('away', 1537), ('click', 1428), ('cryptocurrency', 1124), ('win', 903), ('free', 584), ('gt', 525), ('just', 505), ('enter', 498), ('kardashian', 462), ('bitcoin', 448), ('amp', 430), ('crypto', 354), ('kim', 344), ('news', 341), ('new', 339), ('nhttps', 335), ('join', 299), ('watch', 292), ('magazine', 271), ('celebrity', 257), ('people', 248), ('000', 248), ('celeb', 243), ('video', 235), ('celebs', 233), ('100', 232), ('time', 224), ('like', 223), ('live', 217), ('im', 217), ('blockchain', 217), ('check', 216), ('want', 210), ('gift', 206), ('btc', 199), ('youtube', 191), ('kimkardashian', 186), ('giving', 185), ('2018', 179), ('nclick', 176), ('airdrop', 175), ('entered', 173), ('love', 169), ('don', 165), ('day', 163), ('chance', 160), ('10', 157), ('snapchat', 156), ('nadd', 154), ('card', 153), ('dont', 151), ('ethereum', 151), ('big', 150), ('good', 147), ('come', 138), ('buy', 133), ('going', 132), ('great', 126), ('goal', 125), ('support', 122), ('know', 122), ('year', 121), ('game', 120), ('code', 118), ('register', 117), ('khloe', 117), ('money', 116), ('help', 114), ('project', 114), ('online', 111), ('best', 111), ('amazon', 110), ('today', 107), ('need', 106), ('eth', 106), ('pay', 105), ('make', 104), ('got', 104), ('movie', 101), ('right', 101), ('ico', 101), ('playing', 97), ('using', 96), ('bucks', 95), ('thanks', 95), ('easy', 93), ('stuff', 93), ('music', 91), ('way', 90), ('pictures', 90), ('tickets', 89), ('ends', 87), ('follow', 87), ('prizes', 86), ('link', 86), ('extra', 86), ('did', 85), ('50', 83), ('awesome', 83), ('listen', 81), ('really', 79), ('liked', 79), ('supply', 77), ('arsenal', 77), ('fortnite', 76), ('life', 75), ('world', 75), ('spring', 75), ('listia', 75), ('credits', 75), ('let', 74), ('winner', 73), ('doing', 72), ('icymi', 71), ('25', 71), ('ll', 71), ('sign', 69), ('token', 69), ('nfollow', 69), ('man', 68), ('selling', 67), ('pumpkinpayteam', 67), ('ppkc', 67), ('market', 66), ('npumpkin', 66), ('500', 65), ('week', 65), ('nano', 65), ('gfuelenergy', 65), ('home', 64), ('winning', 64), ('details', 64), ('200', 64), ('pyeongchang', 64), ('earning', 64), ('price', 63), ('month', 62), ('worth', 62), ('april', 62), ('daily', 61), ('iota', 61), ('digitalstormpc', 61), ('fazeup', 61), ('15', 60), ('book', 60), ('left', 60), ('learn', 59), ('use', 59), ('ve', 58), ('vlog', 58), ('open', 56), ('cash', 56), ('think', 56), ('prize', 56), ('featured', 56), ('artistrack', 56), ('baby', 56), ('sexy', 55), ('submissions', 55), ('read', 53), ('sweepstakes', 53), ('trading', 53), ('youre', 53), ('litecoin', 53), ('20', 52), ('organized', 52), ('sure', 52), ('contest', 52), ('hope', 52), ('black', 51), ('pc', 51), ('minutes', 51), ('platform', 51), ('guys', 50), ('look', 50), ('actually', 50), ('stream', 50), ('battle', 50), ('followers', 50), ('sale', 49), ('say', 49), ('30', 49), ('1000', 49), ('soon', 49), ('days', 49), ('family', 48), ('trying', 48), ('late', 48), ('coin', 47), ('work', 47), ('play', 47), ('books', 47), ('looking', 47), ('amazing', 47), ('lol', 47), ('coming', 47), ('review', 46), ('gonna', 46), ('shit', 46), ('bank', 45), ('hit', 45), ('shows', 45), ('friends', 45), ('ass', 44), ('start', 44), ('years', 44), ('retweet', 44), ('team', 44), ('ripple', 44), ('pink', 43), ('business', 43), ('tonight', 43), ('twitter', 43), ('season', 43), ('hey', 43), ('running', 43), ('uber', 43), ('tax', 43), ('sex', 42), ('march', 42), ('nthe', 42), ('update', 42), ('happy', 42), ('fantasy', 42), ('save', 42), ('set', 42), ('final', 42), ('long', 42), ('kourtney', 41), ('things', 41), ('wanna', 41), ('try', 41), ('tokens', 41), ('taylor', 41), ('thank', 41), ('community', 41), ('eco', 41), ('massive', 41), ('service', 40), ('jenner', 40), ('ni', 40), ('real', 39), ('maybe', 39), ('having', 38), ('plus', 38), ('blog', 38), ('latest', 38), ('pro', 38), ('twitch', 38), ('edition', 38), ('koa', 38), ('babe', 37), ('12', 37), ('does', 37), ('ticket', 37), ('games', 37), ('hard', 37), ('winners', 37), ('paypal', 37), ('n1', 36), ('miss', 36), ('air', 36), ('party', 36), ('story', 36), ('believe', 36), ('feel', 36), ('half', 36), ('copy', 36), ('swift', 36), ('yes', 36), ('mother', 36), ('amazongiveaway', 36), ('getting', 35), ('available', 35), ('says', 35), ('stay', 35), ('won', 35), ('tell', 35), ('th', 35), ('better', 35), ('congress', 35), ('windows', 35), ('wants', 34), ('tomorrow', 34), ('gets', 34), ('men', 34), ('trump', 34), ('little', 33), ('view', 33), ('old', 33), ('fuck', 33), ('phone', 33), ('dump', 33), ('decentralized', 33), ('usd', 33), ('gaming', 33), ('royale', 33), ('heart', 32), ('end', 32), ('crowdfunding', 32), ('special', 32), ('taking', 32), ('talk', 32), ('future', 32), ('thing', 32), ('tweet', 32), ('ccklml', 32), ('exchange', 32), ('origin', 32), ('pack', 32), ('selfies', 32), ('marketing', 31), ('24', 31), ('choice', 31), ('share', 31), ('8rnluayhzd', 31), ('added', 31), ('super', 31), ('person', 31), ('interested', 31), ('subs', 31), ('investors', 31), ('pump', 31), ('founder', 31), ('approves', 31), ('immediately', 31), ('style', 30), ('pre', 30), ('thats', 30), ('camera', 30), ('huge', 30), ('visit', 30), ('receive', 30), ('wins', 30), ('care', 30), ('list', 30), ('shirt', 30), ('said', 30), ('ball', 30), ('famous', 30), ('mexicos', 30), ('altcoins', 30), ('markets', 30), ('fan', 29), ('11', 29), ('offer', 29), ('makes', 29), ('took', 29), ('pretty', 29), ('40', 29), ('bad', 29), ('bounty', 29), ('calls', 29), ('didnt', 29), ('regulations', 29), ('altcoin', 29), ('shopping', 28), ('job', 28), ('sent', 28), ('sell', 28), ('instagram', 28), ('lt', 28), ('mom', 28), ('release', 28), ('fun', 28), ('west', 28), ('earn', 28), ('stop', 28), ('post', 28), ('white', 27), ('booty', 27), ('giuseppe', 27), ('oh', 27), ('clic', 27), ('99', 27), ('second', 27), ('kylie', 27), ('competition', 27), ('fucking', 27), ('facebook', 27), ('celebrate', 27), ('weekend', 27), ('excited', 27), ('digital', 27), ('currency', 27), ('hour', 27), ('fans', 27), ('ill', 27), ('yasss', 27), ('27', 26), ('echo', 26), ('car', 26), ('action', 26), ('meet', 26), ('thought', 26), ('info', 26), ('trade', 26), ('god', 26), ('night', 26), ('america', 26), ('content', 26), ('used', 26), ('invest', 26), ('mining', 26), ('run', 26), ('faze', 26), ('vitalik', 26), ('bonus', 25), ('forget', 25), ('18', 25), ('dogs', 25), ('hot', 25), ('ready', 25), ('change', 25), ('xbox', 25), ('kids', 25), ('entry', 25), ('war', 25), ('cryptocurrencies', 25), ('250', 25), ('throw', 25), ('caught', 25), ('sunglasses', 25), ('xv', 25), ('originpcfamily', 25), ('vbucks', 25), ('gay', 24), ('thousands', 24), ('referral', 24), ('value', 24), ('00', 24), ('credit', 24), ('place', 24), ('program', 24), ('seen', 24), ('beauty', 24), ('website', 24), ('pick', 24), ('draft', 24), ('80', 24), ('lost', 24), ('dead', 24), ('binance', 24), ('wanted', 24), ('bump', 24), ('pregnant', 24), ('artwork', 24), ('atletico', 24), ('android', 23), ('women', 23), ('gold', 23), ('success', 23), ('dating', 23), ('winter', 23), ('iphone', 23), ('power', 23), ('order', 23), ('law', 23), ('photo', 23), ('played', 23), ('beyonce', 23), ('13', 23), ('walk', 23), ('tokyo', 23), ('closing', 23), ('perfect', 23), ('cool', 23), ('hi', 23), ('hours', 23), ('break', 23), ('didn', 23), ('authority', 23), ('baffled', 23), ('nude', 23), ('summer', 23), ('sbd', 23), ('influencers', 23), ('14', 22), ('fast', 22), ('launch', 22), ('fryer', 22), ('olympics', 22), ('google', 22), ('february', 22), ('app', 22), ('starting', 22), ('page', 22), ('pain', 22), ('signed', 22), ('pair', 22), ('south', 22), ('lucky', 22), ('economy', 22), ('guy', 22), ('3rd', 22), ('goes', 22), ('belgian', 22), ('yellow', 22), ('giveaways', 22), ('lot', 21), ('girls', 21), ('bet', 21), ('private', 21), ('article', 21), ('club', 21), ('biggest', 21), ('multi', 21), ('roku', 21), ('st', 21), ('lights', 21), ('tips', 21), ('shop', 21), ('milf', 21), ('download', 21), ('trip', 21), ('million', 21), ('following', 21), ('yeah', 21), ('photos', 21), ('company', 21), ('case', 21), ('idea', 21), ('bought', 21), ('steemit', 21), ('announce', 21), ('participated', 21), ('infinitywar', 21), ('avengers', 21), ('2nd', 20), ('account', 20), ('minded', 20), ('gaysingles', 20), ('friendships', 20), ('relationships', 20), ('social', 20), ('appreci', 20), ('vs', 20), ('city', 20), ('package', 20), ('event', 20), ('whore', 20), ('ask', 20), ('ad', 20), ('mobile', 20), ('group', 20), ('comes', 20), ('bring', 20), ('worlds', 20), ('girl', 20), ('fight', 20), ('passport', 20), ('steam', 20), ('ps4', 20), ('yo', 20), ('finally', 20), ('true', 20), ('food', 20), ('yall', 20), ('xrp', 20), ('fintech', 20), ('tron', 20), ('sister', 20), ('box', 20), ('phanteks', 20), ('sub', 20), ('email', 19), ('close', 19), ('apple', 19), ('beautiful', 19), ('banks', 19), ('hair', 19), ('doesnt', 19), ('jennifer', 19), ('subscriber', 19), ('profile', 19), ('high', 19), ('members', 19), ('tour', 19), ('purchase', 19), ('song', 19), ('instant', 19), ('young', 19), ('gives', 19), ('hear', 19), ('cards', 19), ('ceremony', 19), ('complete', 19), ('art', 19), ('hand', 19), ('korea', 19), ('strategy', 19), ('income', 19), ('wish', 19), ('subscription', 19), ('makeup', 19), ('wallet', 19), ('remember', 19), ('road', 19), ('keystone', 19), ('rov', 19), ('store', 18), ('wrong', 18), ('gaydating', 18), ('gaypersonals', 18), ('loves', 18), ('tv', 18), ('children', 18), ('sunday', 18), ('called', 18), ('congratulations', 18), ('training', 18), ('king', 18), ('north', 18), ('reason', 18), ('cannabis', 18), ('nif', 18), ('president', 18), ('hurry', 18), ('making', 18), ('national', 18), ('participate', 18), ('official', 18), ('wait', 18), ('kindle', 18), ('300', 18), ('needs', 18), ('basic', 18), ('nit', 18), ('changing', 18), ('secure', 18), ('working', 18), ('coinbase', 18), ('manna', 18), ('nyou', 18), ('announces', 18), ('probably', 18), ('wow', 18), ('outdoor', 18), ('cover', 17), ('led', 17), ('tech', 17), ('times', 17), ('hollywood', 17), ('fact', 17), ('lawrence', 17), ('picnic', 17), ('nice', 17), ('smart', 17), ('episode', 17), ('funny', 17), ('ultimate', 17), ('26', 17), ('global', 17), ('skin', 17), ('paid', 17), ('23', 17), ('vote', 17), ('fake', 17), ('tried', 17), ('bit', 17), ('hands', 17), ('romance', 17), ('diamond', 17), ('reading', 17), ('customers', 17), ('based', 17), ('international', 17), ('trx', 17), ('returns', 17), ('affiliate', 17), ('far', 17), ('japan', 17), ('giftcard', 17), ('pass', 17), ('madrid', 17), ('laptop', 16), ('original', 16), ('butt', 16), ('takes', 16), ('doesn', 16), ('chat', 16), ('nba', 16), ('fund', 16), ('public', 16), ('pornstar', 16), ('pussy', 16), ('friend', 16), ('nwe', 16), ('coins', 16), ('feeling', 16), ('kanye', 16), ('sold', 16), ('couple', 16), ('body', 16), ('finance', 16), ('government', 16), ('living', 16), ('brand', 16), ('kardashians', 16), ('funding', 16), ('red', 16), ('cause', 16), ('hate', 16), ('ok', 16), ('17', 16), ('mini', 16), ('favorite', 16), ('800', 16), ('tag', 16), ('n2', 16), ('investing', 16), ('monero', 16), ('nuse', 16), ('28', 16), ('xmr', 16), ('worked', 16), ('luck', 16), ('khlo', 16), ('argument', 16), ('kl6eqqtb67', 16), ('face', 15), ('videos', 15), ('cock', 15), ('porn', 15), ('nand', 15), ('candy', 15), ('able', 15), ('ahead', 15), ('energy', 15), ('country', 15), ('secrets', 15), ('network', 15), ('round', 15), ('limited', 15), ('information', 15), ('financial', 15), ('ive', 15), ('ways', 15), ('ann', 15), ('haven', 15), ('ya', 15), ('star', 15), ('merch', 15), ('product', 15), ('guide', 15), ('including', 15), ('house', 15), ('send', 15), ('months', 15), ('challenge', 15), ('quick', 15), ('nenter', 15), ('point', 15), ('class', 15), ('hes', 15), ('shoot', 15), ('90', 15), ('wont', 15), ('nto', 15), ('media', 15), ('announced', 15), ('birthday', 15), ('mean', 15), ('calling', 15), ('03', 15), ('airdrops', 15), ('xnk', 15), ('ltc', 15), ('startups', 15), ('eyes', 15), ('instead', 15), ('ago', 15), ('crying', 15), ('comment', 15), ('realdonaldtrump', 15), ('ft', 15), ('explosive', 15), ('gear', 15), ('dad', 15), ('bundle', 15), ('exactly', 15), ('spoilers', 15), ('150', 14), ('teen', 14), ('id', 14), ('apply', 14), ('payment', 14), ('cum', 14), ('hottest', 14), ('estate', 14), ('19', 14), ('test', 14), ('interesting', 14), ('school', 14), ('hosting', 14), ('enjoy', 14), ('ur', 14), ('sweet', 14), ('blonde', 14), ('debuts', 14), ('hoping', 14), ('wall', 14), ('manager', 14), ('local', 14), ('pm', 14), ('monday', 14), ('gave', 14), ('podcast', 14), ('jail', 14), ('opportunity', 14), ('given', 14), ('35', 14), ('series', 14), ('course', 14), ('experience', 14), ('till', 14), ('offers', 14), ('player', 14), ('trust', 14), ('mark', 14), ('pubg', 14), ('watching', 14), ('gotta', 14), ('collection', 14), ('recent', 14), ('omg', 14), ('gates', 14), ('icos', 14), ('looks', 14), ('mind', 14), ('playlist', 14), ('follower', 14), ('dna', 14), ('woman', 14), ('weight', 14), ('cosby', 14), ('secret', 13), ('deal', 13), ('small', 13), ('22', 13), ('premium', 13), ('sugar', 13), ('nfl', 13), ('fashion', 13), ('streaming', 13), ('interview', 13), ('saturday', 13), ('health', 13), ('sw', 13), ('prices', 13), ('age', 13), ('gorgeous', 13), ('upcoming', 13), ('releases', 13), ('major', 13), ('voting', 13), ('beautify', 13), ('space', 13), ('willing', 13), ('se', 13), ('dj', 13), ('tender', 13), ('grow', 13), ('education', 13), ('son', 13), ('saw', 13), ('writing', 13), ('build', 13), ('step', 13), ('block', 13), ('channel', 13), ('site', 13), ('attention', 13), ('visa', 13), ('self', 13), ('grab', 13), ('products', 13), ('single', 13), ('current', 13), ('industry', 13), ('kid', 13), ('400', 13), ('saying', 13), ('directly', 13), ('ecocoin', 13), ('cryptos', 13), ('newsoftheweek', 13), ('cofounder', 13), ('investments', 13), ('partner', 13), ('idrop', 13), ('mooreandgiles', 13), ('chances', 13), ('loss', 13), ('prom', 13), ('jewelry', 12), ('ceo', 12), ('invite', 12), ('tits', 12), ('horny', 12), ('asa', 12), ('akira', 12), ('kickstarter', 12), ('early', 12), ('works', 12), ('question', 12), ('dollar', 12), ('dream', 12), ('ads', 12), ('claim', 12), ('kitchen', 12), ('issue', 12), ('different', 12), ('ngive', 12), ('poor', 12), ('rich', 12), ('continue', 12), ('buying', 12), ('league', 12), ('daddy', 12), ('entertainment', 12), ('newsletter', 12), ('tool', 12), ('conference', 12), ('tweets', 12), ('forward', 12), ('hat', 12), ('events', 12), ('low', 12), ('outfit', 12), ('olympic', 12), ('canada', 12), ('anymore', 12), ('clean', 12), ('lead', 12), ('29', 12), ('answer', 12), ('cheap', 12), ('head', 12), ('investment', 12), ('turn', 12), ('past', 12), ('problem', 12), ('number', 12), ('lino', 12), ('autonomous', 12), ('mins', 12), ('universal', 12), ('currencies', 12), ('administration', 12), ('howtobuy', 12), ('demands', 12), ('breaking', 12), ('decided', 12), ('invested', 12), ('spankchain', 12), ('bigboobscoin', 12), ('easily', 12), ('weeks', 12), ('bc', 12), ('dabs', 12), ('piece', 12), ('sad', 12), ('cream', 12), ('entering', 12), ('friday', 12), ('mothersday', 12), ('nends', 12), ('beach', 12), ('booktour', 12), ('infinity', 12), ('lets', 12), ('anniversary', 12), ('taken', 12), ('draw', 12), ('blue', 11), ('sales', 11), ('pop', 11), ('nbusty', 11), ('lend', 11), ('60', 11), ('state', 11), ('annual', 11), ('crazy', 11), ('professional', 11), ('increase', 11), ('quality', 11), ('cross', 11), ('reminder', 11), ('nfor', 11), ('dress', 11), ('audio', 11), ('launches', 11), ('na', 11), ('simple', 11), ('office', 11), ('posts', 11), ('options', 11), ('signals', 11), ('african', 11), ('promotion', 11), ('data', 11), ('plan', 11), ('telegram', 11), ('stocks', 11), ('brunette', 11), ('lisa', 11), ('moment', 11), ('level', 11), ('lives', 11), ('ebook', 11), ('2017', 11), ('alert', 11), ('coupon', 11), ('powerful', 11), ('memoir', 11), ('dm', 11), ('artist', 11), ('history', 11), ('njoin', 11), ('losing', 11), ('proof', 11), ('scott', 11), ('mothers', 11), ('shot', 11), ('dmypys', 11), ('nbuy', 11), ('bethereum', 11), ('bthrbounty', 11), ('ex', 11), ('gone', 11), ('unveils', 11), ('nearly', 11), ('accounts', 11), ('ransom', 11), ('koreans', 11), ('developments', 11), ('definitely', 11), ('zero', 11), ('stupid', 11), ('inch', 11), ('cleavage', 11), ('mattress', 11), ('console', 11), ('supporting', 11), ('congrats', 11), ('bag', 11), ('die', 11), ('went', 11), ('johnlegend', 11), ('consensus', 11), ('sorry', 11), ('leg', 11), ('walked', 11), ('boycotts', 11), ('design', 10), ('deals', 10), ('wireless', 10), ('trouble', 10), ('phat', 10), ('date', 10), ('hello', 10), ('property', 10), ('samsung', 10), ('kill', 10), ('wearing', 10), ('expert', 10), ('al', 10), ('candidate', 10), ('lingerie', 10), ('deep', 10), ('sa', 10), ('ente', 10), ('solution', 10), ('literally', 10), ('parent', 10), ('demo', 10), ('themed', 10), ('started', 10), ('research', 10), ('users', 10), ('subscribe', 10), ('manyvids', 10), ('child', 10), ('wild', 10), ('fucked', 10), ('projects', 10), ('dare', 10), ('goals', 10), ('campaign', 10), ('fantastic', 10), ('sam', 10), ('smith', 10), ('track', 10), ('thriller', 10), ('donate', 10), ('celebrating', 10), ('understand', 10), ('add', 10), ('honor', 10), ('pl', 10), ('radio', 10), ('return', 10), ('dog', 10), ('backed', 10), ('line', 10), ('nmaking', 10), ('peace', 10), ('james', 10), ('1st', 10), ('short', 10), ('adoption', 10), ('universalbasicincome', 10), ('portfolio', 10), ('joined', 10), ('positive', 10), ('min', 10), ('volume', 10), ('dash', 10), ('bch', 10), ('agree', 10), ('popped', 10), ('cyberattacks', 10), ('16', 10), ('cryptonews', 10), ('security', 10), ('5th', 10), ('closer', 10), ('passes', 10), ('push', 10), ('com', 10), ('welcome', 10), ('glad', 10), ('selfie', 10), ('ending', 10), ('regret', 10), ('4k', 10), ('irepairfast', 10), ('enthoo', 10), ('evolv', 10), ('itx', 10), ('bookboost', 10), ('aw', 10), ('bts_twt', 10), ('matter', 10), ('water', 10), ('em', 10), ('told', 10), ('wouldnt', 10), ('koscielny', 10), ('report', 9), ('sport', 9), ('feb', 9), ('coral', 9), ('meant', 9), ('eye', 9), ('kendall', 9), ('asian', 9), ('picture', 9), ('yummy', 9), ('medal', 9), ('discord', 9), ('yey', 9), ('see_snaps', 9), ('toyota', 9), ('sharing', 9), ('jay', 9), ('inlinkz', 9), ('linkup', 9), ('cu', 9), ('fo', 9), ('discover', 9), ('broken', 9), ('room', 9), ('plays', 9), ('doubt', 9), ('gun', 9), ('mvsales', 9), ('abuse', 9), ('paying', 9), ('highlights', 9), ('double', 9), ('vivo', 9), ('uses', 9), ('shipping', 9), ('united', 9), ('hosted', 9), ('le', 9), ('scene', 9), ('key', 9), ('access', 9), ('95', 9), ('press', 9), ('legend', 9), ('swiss', 9), ('highly', 9), ('storm', 9), ('thomas', 9), ('sun', 9), ('mystery', 9), ('youth', 9), ('toy', 9), ('simply', 9), ('john', 9), ('version', 9), ('planning', 9), ('pressure', 9), ('65', 9), ('celebrates', 9), ('higher', 9), ('creating', 9), ('seriously', 9), ('spend', 9), ('exclusive', 9), ('cnbc', 9), ('startup', 9), ('tokensale', 9), ('light', 9), ('everyday', 9), ('replace', 9), ('philanthropy', 9), ('plans', 9), ('exchanges', 9), ('dallas', 9), ('knows', 9), ('kind', 9), ('regulation', 9), ('yesterday', 9), ('5000', 9), ('headlines', 9), ('shade', 9), ('kuwtk', 9), ('jets', 9), ('gi', 9), ('gamersoutreach', 9), ('nzxt', 9), ('concert', 9), ('announcement', 9), ('digger', 9), ('fandango', 9), ('nas', 9), ('starbucks', 9), ('writes', 9), ('attire', 9), ('okay', 9), ('idk', 9), ('damn', 9), ('lmao', 9), ('atleti', 9), ('bro', 9), ('defending', 9)]\n",
      "1253\n",
      "[('https', 4510), ('kardashian', 1045), ('kim', 522), ('rt', 420), ('cryptocurrency', 242), ('new', 231), ('like', 204), ('just', 200), ('click', 182), ('nhttps', 176), ('shopping', 156), ('java', 154), ('khloe', 151), ('people', 149), ('kardashians', 143), ('data', 127), ('playing', 125), ('baby', 124), ('ai', 118), ('jenner', 112), ('love', 105), ('trump', 99), ('good', 98), ('amp', 97), ('make', 93), ('im', 92), ('bigdata', 91), ('kourtney', 90), ('time', 88), ('listen', 83), ('west', 81), ('president', 81), ('bitcoin', 81), ('know', 77), ('free', 77), ('look', 76), ('great', 76), ('machinelearning', 75), ('datascience', 75), ('news', 73), ('8rnluayhzd', 72), ('day', 71), ('come', 70), ('think', 69), ('north', 69), ('abdsc', 69), ('dont', 68), ('congress', 68), ('need', 67), ('house', 67), ('learning', 67), ('video', 65), ('today', 63), ('going', 63), ('year', 61), ('really', 61), ('watch', 61), ('kylie', 61), ('big', 59), ('facebook', 59), ('japan', 59), ('pink', 58), ('2018', 58), ('years', 58), ('korea', 56), ('youtube', 55), ('blockchain', 54), ('shows', 53), ('want', 52), ('say', 52), ('mexicos', 52), ('machine', 52), ('kids', 51), ('approves', 51), ('says', 51), ('best', 50), ('artificialintelligence', 50), ('10', 49), ('app', 49), ('join', 49), ('world', 48), ('regulations', 48), ('making', 47), ('got', 46), ('did', 46), ('using', 46), ('celebrity', 46), ('live', 45), ('week', 45), ('babies', 45), ('life', 44), ('looking', 44), ('don', 44), ('help', 44), ('use', 44), ('bump', 43), ('tokyo', 43), ('better', 42), ('white', 42), ('family', 42), ('kanye', 42), ('work', 42), ('crowdfunding', 42), ('famous', 42), ('amazon', 41), ('money', 41), ('way', 41), ('said', 41), ('project', 41), ('beyonce', 41), ('does', 40), ('science', 40), ('state', 40), ('game', 39), ('march', 38), ('pay', 38), ('kimkardashian', 38), ('nuclear', 38), ('looks', 38), ('google', 37), ('feel', 37), ('100', 37), ('ex', 37), ('gt', 37), ('official', 37), ('crypto', 37), ('future', 36), ('snapchat', 36), ('old', 36), ('pregnant', 35), ('datasciencectrl', 35), ('support', 34), ('pretty', 34), ('man', 33), ('set', 33), ('happy', 33), ('cute', 32), ('things', 32), ('james', 32), ('funding', 32), ('jenners', 32), ('intelligence', 32), ('python', 32), ('try', 31), ('india', 31), ('check', 30), ('buy', 30), ('lot', 30), ('getting', 30), ('coming', 30), ('giving', 30), ('ready', 29), ('body', 29), ('home', 29), ('women', 29), ('list', 29), ('right', 29), ('vogue', 29), ('super', 29), ('nsa', 29), ('program', 29), ('artificial', 29), ('stop', 28), ('based', 28), ('let', 28), ('beautiful', 28), ('star', 28), ('online', 27), ('trip', 27), ('thank', 27), ('end', 27), ('girl', 27), ('shade', 26), ('liked', 26), ('android', 26), ('little', 26), ('music', 26), ('twitter', 26), ('link', 26), ('airdrop', 26), ('internet', 26), ('social', 26), ('iot', 26), ('fake', 26), ('real', 26), ('tutorial', 26), ('comey', 26), ('lol', 25), ('birthday', 25), ('hollywood', 25), ('business', 25), ('learn', 25), ('police', 25), ('instagram', 25), ('keeping', 25), ('killer', 25), ('went', 24), ('makes', 24), ('win', 24), ('story', 24), ('song', 24), ('series', 24), ('talk', 24), ('review', 24), ('media', 24), ('children', 24), ('outfit', 24), ('doing', 23), ('told', 23), ('having', 23), ('night', 23), ('beauty', 23), ('favorite', 23), ('post', 23), ('training', 23), ('npumpkin', 23), ('nfollow', 23), ('pumpkinpayteam', 23), ('ppkc', 23), ('used', 23), ('model', 23), ('thing', 23), ('golden', 23), ('definitely', 22), ('car', 22), ('woman', 22), ('ass', 22), ('service', 22), ('watching', 22), ('11', 22), ('rob', 22), ('office', 22), ('youre', 22), ('cosby', 22), ('analyticbridge', 22), ('deep', 22), ('microsoft', 22), ('cnnmoney', 22), ('away', 21), ('book', 21), ('actually', 21), ('smart', 21), ('open', 21), ('deal', 21), ('taking', 21), ('makeup', 21), ('tv', 21), ('times', 21), ('latest', 21), ('report', 21), ('biggest', 21), ('features', 21), ('apple', 21), ('deeplearning', 21), ('yall', 20), ('hate', 20), ('thought', 20), ('store', 20), ('lets', 20), ('hair', 20), ('care', 20), ('black', 20), ('gets', 20), ('michael', 20), ('meeting', 20), ('bad', 20), ('finally', 20), ('wants', 20), ('believe', 20), ('stormi', 20), ('nintendo', 20), ('jdk', 20), ('comes', 19), ('friend', 19), ('asked', 19), ('self', 19), ('friends', 19), ('hit', 19), ('director', 19), ('thanks', 19), ('days', 19), ('articles', 19), ('war', 19), ('close', 19), ('movie', 19), ('launches', 19), ('run', 19), ('million', 19), ('pics', 19), ('jenna', 19), ('fischer', 19), ('build', 19), ('shit', 18), ('dress', 18), ('china', 18), ('party', 18), ('ve', 18), ('perfect', 18), ('tell', 18), ('mobile', 18), ('soon', 18), ('gonna', 18), ('doesnt', 18), ('questions', 18), ('needs', 18), ('picture', 18), ('months', 18), ('california', 18), ('tweet', 18), ('south', 18), ('code', 18), ('thats', 18), ('building', 18), ('boozallen', 18), ('session', 18), ('food', 17), ('photos', 17), ('problem', 17), ('guide', 17), ('company', 17), ('girls', 17), ('runs', 17), ('yes', 17), ('fancy', 17), ('morning', 17), ('follow', 17), ('celeb', 17), ('heres', 17), ('high', 17), ('reality', 17), ('launch', 17), ('analysis', 17), ('000', 17), ('shes', 17), ('fans', 17), ('led', 17), ('called', 17), ('prime', 17), ('investigation', 17), ('fbi', 17), ('city', 16), ('long', 16), ('read', 16), ('play', 16), ('men', 16), ('phone', 16), ('fun', 16), ('th', 16), ('trying', 16), ('america', 16), ('gave', 16), ('ago', 16), ('sure', 16), ('create', 16), ('tonight', 16), ('uber', 16), ('sex', 16), ('seen', 16), ('calls', 16), ('tech', 16), ('meet', 16), ('took', 16), ('security', 16), ('place', 16), ('sisters', 16), ('strong', 16), ('khlo', 16), ('fact', 16), ('second', 16), ('research', 16), ('human', 16), ('case', 16), ('algorithms', 16), ('york', 16), ('court', 16), ('russia', 16), ('windows', 16), ('start', 15), ('change', 15), ('weekend', 15), ('update', 15), ('far', 15), ('hope', 15), ('opens', 15), ('working', 15), ('oh', 15), ('market', 15), ('20', 15), ('dream', 15), ('team', 15), ('scott', 15), ('young', 15), ('mike', 15), ('red', 15), ('forward', 15), ('worlds', 15), ('btc', 15), ('guy', 15), ('partner', 15), ('korean', 15), ('person', 15), ('kid', 15), ('god', 15), ('country', 15), ('kuwtk', 15), ('kyliejenner', 15), ('throws', 15), ('shares', 15), ('sister', 15), ('fan', 15), ('history', 15), ('workout', 15), ('adamgbascle', 15), ('breaking', 15), ('robots', 15), ('special', 15), ('bush', 15), ('cnnpolitics', 15), ('grocery', 14), ('maybe', 14), ('omg', 14), ('plans', 14), ('travel', 14), ('worth', 14), ('thinking', 14), ('lost', 14), ('hands', 14), ('closet', 14), ('month', 14), ('ill', 14), ('interview', 14), ('amazing', 14), ('thoughts', 14), ('season', 14), ('fight', 14), ('water', 14), ('chicago', 14), ('recent', 14), ('talking', 14), ('power', 14), ('class', 14), ('lawsuit', 14), ('community', 14), ('platform', 14), ('cutest', 14), ('met', 14), ('judge', 14), ('remove', 14), ('jacket', 14), ('selfie', 14), ('street', 14), ('mean', 14), ('jets', 14), ('cream', 14), ('local', 14), ('senate', 14), ('incredible', 14), ('analytics', 14), ('switch', 14), ('wanna', 13), ('stay', 13), ('tax', 13), ('personal', 13), ('idea', 13), ('came', 13), ('fuck', 13), ('didnt', 13), ('available', 13), ('wait', 13), ('tried', 13), ('ask', 13), ('2017', 13), ('hell', 13), ('states', 13), ('sorry', 13), ('campaign', 13), ('early', 13), ('xwn5a0mrku', 13), ('25', 13), ('huge', 13), ('50', 13), ('ceo', 13), ('announced', 13), ('users', 13), ('wanted', 13), ('turn', 13), ('anime', 13), ('12', 13), ('genes', 13), ('child', 13), ('yeezy', 13), ('khloekardashian', 13), ('models', 13), ('netflix', 13), ('despite', 13), ('isnt', 13), ('record', 13), ('paul', 13), ('waffle', 13), ('alexa', 13), ('prince', 13), ('nshop', 13), ('introduction', 13), ('died', 13), ('vr', 13), ('funny', 12), ('goes', 12), ('didn', 12), ('cause', 12), ('iphone', 12), ('hi', 12), ('target', 12), ('dead', 12), ('bar', 12), ('design', 12), ('ni', 12), ('summer', 12), ('fashion', 12), ('apps', 12), ('hear', 12), ('startup', 12), ('inside', 12), ('agree', 12), ('nclick', 12), ('classic', 12), ('steps', 12), ('information', 12), ('left', 12), ('theres', 12), ('major', 12), ('fucking', 12), ('school', 12), ('beyonc', 12), ('15', 12), ('minutes', 12), ('excited', 12), ('key', 12), ('trade', 12), ('seeing', 12), ('europe', 12), ('following', 12), ('heard', 12), ('russian', 12), ('officials', 12), ('ugly', 12), ('virtual', 12), ('minister', 12), ('american', 12), ('tweets', 12), ('cover', 12), ('butt', 12), ('face', 12), ('kylies', 12), ('reportedly', 12), ('leave', 12), ('childrens', 12), ('chance', 12), ('killed', 12), ('sight', 12), ('file', 12), ('ford', 12), ('processing', 12), ('lawyer', 12), ('decision', 12), ('border', 12), ('ways', 12), ('resources', 12), ('datascientists', 12), ('kirkdborne', 12), ('search', 12), ('bheater', 12), ('splittinguptogether', 12), ('image', 11), ('pick', 11), ('saturday', 11), ('photo', 11), ('hey', 11), ('hard', 11), ('center', 11), ('earth', 11), ('books', 11), ('mom', 11), ('500', 11), ('including', 11), ('saw', 11), ('remember', 11), ('daughter', 11), ('pyeongchang', 11), ('organized', 11), ('united', 11), ('miss', 11), ('simple', 11), ('royal', 11), ('videos', 11), ('bring', 11), ('wish', 11), ('save', 11), ('nice', 11), ('clean', 11), ('public', 11), ('mark', 11), ('icymi', 11), ('applications', 11), ('blac', 11), ('boy', 11), ('nyc', 11), ('ico', 11), ('founder', 11), ('released', 11), ('privacy', 11), ('vs', 11), ('point', 11), ('level', 11), ('figure', 11), ('creating', 11), ('thinks', 11), ('knew', 11), ('chyna', 11), ('massive', 11), ('regret', 11), ('relationship', 11), ('natural', 11), ('pam', 11), ('played', 11), ('suspect', 11), ('past', 11), ('exactly', 11), ('general', 11), ('crazy', 11), ('download', 11), ('line', 11), ('lives', 11), ('disney', 11), ('sexual', 11), ('behold', 11), ('realdonaldtrump', 11), ('cohen', 11), ('jong', 11), ('pompeo', 11), ('force', 11), ('vote', 11), ('insiderfood', 11), ('systems', 11), ('cloud', 11), ('spectacles', 11), ('software', 11), ('robot', 11), ('deep_learning', 11), ('api', 11), ('graalvm', 11), ('littlebigshots', 11), ('drop', 10), ('test', 10), ('non', 10), ('kind', 10), ('size', 10), ('damn', 10), ('near', 10), ('tomorrow', 10), ('welcome', 10), ('lmao', 10), ('speaker', 10), ('button', 10), ('mexico', 10), ('cool', 10), ('entire', 10), ('happens', 10), ('job', 10), ('lil', 10), ('words', 10), ('probably', 10), ('16', 10), ('east', 10), ('sign', 10), ('style', 10), ('inspired', 10), ('wrong', 10), ('event', 10), ('rules', 10), ('selling', 10), ('weeks', 10), ('plan', 10), ('honor', 10), ('parents', 10), ('games', 10), ('2016', 10), ('health', 10), ('risk', 10), ('40', 10), ('mining', 10), ('technology', 10), ('billion', 10), ('algorithm', 10), ('age', 10), ('started', 10), ('uk', 10), ('interesting', 10), ('pregnancy', 10), ('related', 10), ('clan', 10), ('paid', 10), ('sexy', 10), ('ive', 10), ('collide', 10), ('gush', 10), ('arrested', 10), ('issue', 10), ('hilarious', 10), ('sweatpants', 10), ('step', 10), ('talks', 10), ('tvshow', 10), ('stories', 10), ('struggles', 10), ('statistics', 10), ('hearing', 10), ('zuckerberg', 10), ('april', 10), ('election', 10), ('avengers', 10), ('leader', 10), ('gmail', 10), ('earnings', 10), ('cars', 10), ('granvilledsc', 10), ('openjdk', 10), ('oraclejavamag', 10), ('developer', 10), ('wear', 9), ('lady', 9), ('random', 9), ('sales', 9), ('daily', 9), ('gives', 9), ('bet', 9), ('cities', 9), ('bag', 9), ('olympics', 9), ('career', 9), ('complete', 9), ('brain', 9), ('collection', 9), ('monday', 9), ('rich', 9), ('understand', 9), ('magazine', 9), ('dragon', 9), ('stunning', 9), ('easy', 9), ('17', 9), ('pair', 9), ('missed', 9), ('bit', 9), ('taxes', 9), ('la', 9), ('block', 9), ('rest', 9), ('jack', 9), ('startups', 9), ('wow', 9), ('manufacturing', 9), ('approved', 9), ('nthe', 9), ('computers', 9), ('verge', 9), ('revolution', 9), ('means', 9), ('iran', 9), ('starting', 9), ('language', 9), ('positive', 9), ('share', 9), ('price', 9), ('sleep', 9), ('saying', 9), ('double', 9), ('cnn', 9), ('ll', 9), ('dinner', 9), ('selfies', 9), ('hype', 9), ('reason', 9), ('cleavage', 9), ('sizzles', 9), ('crop', 9), ('living', 9), ('kill', 9), ('gorgeous', 9), ('course', 9), ('talent', 9), ('shots', 9), ('tiffany', 9), ('whats', 9), ('reveals', 9), ('speak', 9), ('celebritywills', 9), ('death', 9), ('arrives', 9), ('different', 9), ('george', 9), ('stars', 9), ('insecurities', 9), ('andkim', 9), ('cyberpunkfm', 9), ('harris_andrews3', 9), ('wall', 9), ('joshconstine', 9), ('philadelphia', 9), ('briefing', 9), ('counsel', 9), ('nytopinion', 9), ('democrats', 9), ('law', 9), ('guilty', 9), ('leaders', 9), ('secretary', 9), ('committee', 9), ('thursday', 9), ('demand', 9), ('shooting', 9), ('release', 9), ('researchers', 9), ('labo', 9), ('raises', 9), ('performance', 9), ('memos', 9), ('attorney', 9), ('coast', 9), ('clothes', 8), ('tells', 8), ('value', 8), ('experience', 8), ('color', 8), ('options', 8), ('drink', 8), ('gotta', 8), ('hours', 8), ('bath', 8), ('hes', 8), ('rapper', 8), ('fully', 8), ('asking', 8), ('wedding', 8), ('stuff', 8), ('instead', 8), ('enter', 8), ('dog', 8), ('loved', 8), ('san', 8), ('chocolate', 8), ('large', 8), ('battle', 8), ('track', 8), ('french', 8), ('emergency', 8), ('calling', 8), ('se', 8), ('winning', 8), ('yeah', 8), ('theyre', 8), ('signs', 8), ('announce', 8), ('episode', 8), ('lt', 8), ('celebs', 8), ('jobs', 8), ('blue', 8), ('john', 8), ('air', 8), ('sunday', 8), ('room', 8), ('yo', 8), ('matter', 8), ('feeling', 8), ('low', 8), ('adoption', 8), ('government', 8), ('crowdfundingregulations', 8), ('digital', 8), ('article', 8), ('imagine', 8), ('financial', 8), ('gaming', 8), ('network', 8), ('crime', 8), ('economy', 8), ('killing', 8), ('benefits', 8), ('fine', 8), ('head', 8), ('samsung', 8), ('changing', 8), ('potential', 8), ('useful', 8), ('popular', 8), ('skin', 8), ('respect', 8), ('final', 8), ('ok', 8), ('bro', 8), ('voice', 8), ('eyes', 8), ('prison', 8), ('interested', 8), ('celebrities', 8), ('pranking', 8), ('named', 8), ('mini', 8), ('okay', 8), ('stormy', 8), ('text', 8), ('press', 8), ('filter', 8), ('june', 8), ('hotel', 8), ('culture', 8), ('hot', 8), ('maga', 8), ('37', 8), ('posts', 8), ('spend', 8), ('orders', 8), ('later', 8), ('broke', 8), ('haddish', 8), ('secret', 8), ('computer', 8), ('debuts', 8), ('badly', 8), ('takes', 8), ('lead', 8), ('proud', 8), ('emoji', 8), ('cases', 8), ('airport', 8), ('sent', 8), ('washington', 8), ('likely', 8), ('services', 8), ('touch', 8), ('crash', 8), ('elon', 8), ('access', 8), ('decades', 8), ('nfl', 8), ('draft', 8), ('humans', 8), ('focus', 8), ('pruitt', 8), ('30', 8), ('pro', 8), ('neuralnetworks', 8), ('cheat', 8), ('boozdatascience', 8), ('devices', 8), ('sheet', 8), ('scientists', 8), ('streaming', 8), ('bringing', 8), ('user', 8), ('architecture', 8), ('apache', 8), ('multiple', 8), ('abc', 8), ('whitehouse', 8), ('barbara', 8), ('florida', 8), ('machine_learning', 8), ('java10', 8), ('toronto', 8), ('shop', 7), ('trash', 7), ('guess', 7), ('cart', 7), ('card', 7), ('especially', 7), ('moment', 7), ('22', 7), ('everyday', 7), ('studio', 7), ('closed', 7), ('literally', 7), ('spring', 7), ('bc', 7), ('pictures', 7), ('largest', 7), ('24', 7), ('normal', 7), ('cut', 7), ('global', 7), ('blog', 7), ('medical', 7), ('david', 7), ('art', 7), ('message', 7), ('player', 7), ('unique', 7), ('pattern', 7), ('sell', 7), ('product', 7), ('board', 7), ('wonder', 7), ('football', 7), ('mi', 7), ('updated', 7), ('mad', 7), ('wa', 7), ('lamar', 7), ('18', 7), ('fat', 7), ('charged', 7), ('historic', 7), ('sick', 7), ('break', 7), ('worse', 7), ('investment', 7), ('developments', 7), ('higher', 7), ('concept', 7), ('ripple', 7), ('replace', 7), ('faces', 7), ('cybersecurity', 7), ('waiting', 7), ('sees', 7), ('database', 7), ('vision', 7), ('forces', 7), ('return', 7), ('disrupt', 7), ('powerful', 7), ('math', 7), ('tool', 7), ('tape', 7), ('robert', 7), ('table', 7), ('sitting', 7), ('wearing', 7), ('growing', 7), ('af', 7), ('bitch', 7), ('havent', 7), ('skirt', 7), ('eat', 7), ('obsessed', 7), ('born', 7), ('loves', 7), ('testing', 7), ('running', 7), ('fox', 7), ('starts', 7), ('fired', 7), ('round', 7), ('terrible', 7), ('prank', 7), ('forget', 7), ('outside', 7), ('pop', 7), ('brother', 7), ('swear', 7), ('bumps', 7), ('princess', 7), ('single', 7), ('france', 7), ('view', 7), ('keeps', 7), ('hour', 7), ('snap', 7), ('answer', 7), ('beat', 7), ('wife', 7), ('order', 7), ('hold', 7), ('ryan', 7), ('tesla', 7), ('obama', 7), ('tour', 7), ('original', 7), ('mode', 7), ('tasks', 7), ('member', 7), ('infinity', 7), ('daniels', 7), ('nlp', 7), ('experts', 7), ('flight', 7), ('solve', 7), ('evening', 7), ('officers', 7), ('smartphone', 7), ('chief', 7), ('selected', 7), ('avengersinfinitywar', 7), ('seven', 7), ('longer', 7), ('neural', 7), ('industry', 7), ('methods', 7), ('differences', 7), ('wars', 7), ('challenges', 7), ('application', 7), ('ideas', 7), ('redesign', 7), ('facebooks', 7), ('fredericl', 7), ('memory', 7), ('sharing', 7), ('ibm', 7), ('quickly', 7), ('client', 7), ('criminal', 7), ('department', 7), ('chatbot', 7), ('microservices', 7), ('jvm', 7), ('baeldung', 7), ('pedestrians', 7), ('van', 7), ('thankssponsor', 7), ('em', 6), ('complex', 6), ('dad', 6), ('losing', 6), ('hire', 6), ('shoes', 6), ('ended', 6), ('area', 6), ('source', 6), ('anymore', 6), ('rock', 6), ('drunk', 6), ('turning', 6), ('dollars', 6), ('explain', 6), ('hidden', 6), ('todays', 6), ('listening', 6), ('packages', 6), ('haven', 6), ('teach', 6), ('brought', 6), ('101', 6), ('weekly', 6), ('gold', 6), ('driving', 6), ('marketing', 6), ('ii', 6), ('assistant', 6), ('visit', 6), ('nby', 6), ('podcast', 6), ('mind', 6), ('club', 6), ('ends', 6), ('fund', 6), ('education', 6), ('monthly', 6), ('featured', 6), ('ahead', 6), ('nearly', 6), ('broken', 6), ('setting', 6), ('wonderful', 6), ('donald', 6), ('sports', 6), ('minaj', 6), ('remix', 6), ('21', 6), ('jail', 6), ('everybody', 6), ('page', 6), ('private', 6), ('short', 6), ('involved', 6), ('version', 6), ('fr', 6), ('ft', 6), ('king', 6), ('exchange', 6), ('views', 6), ('innovation', 6), ('demands', 6), ('trading', 6), ('mexican', 6), ('secure', 6), ('website', 6), ('group', 6), ('basic', 6), ('regulation', 6), ('fintech', 6), ('national', 6), ('introduces', 6), ('easier', 6), ('documentary', 6), ('expect', 6), ('published', 6), ('events', 6), ('breaks', 6), ('healthcare', 6), ('aka', 6), ('reading', 6), ('total', 6), ('easily', 6), ('talked', 6), ('sold', 6), ('expert', 6), ('lawmakers', 6), ('points', 6), ('according', 6), ('youve', 6), ('names', 6), ('father', 6), ('viral', 6), ('tea', 6), ('known', 6), ('space', 6), ('problems', 6), ('birth', 6), ('tho', 6), ('smh', 6), ('putting', 6), ('paper', 6), ('pic', 6), ('eating', 6), ('lose', 6), ('convinced', 6), ('injapan', 6), ('clear', 6), ('spotify', 6), ('walmart', 6), ('inch', 6), ('eats', 6), ('shot', 6), ('kris', 6), ('adorable', 6), ('artist', 6), ('indian', 6), ('clothing', 6), ('dance', 6), ('ridiculous', 6), ('freaking', 6), ('knowledge', 6), ('14', 6), ('engadget', 6), ('form', 6), ('vogueindia', 6), ('bigger', 6), ('choose', 6), ('nkim', 6), ('clip', 6), ('role', 6), ('sending', 6), ('realize', 6), ('drake', 6), ('beats', 6), ('firing', 6), ('late', 6), ('dropped', 6), ('host', 6), ('crying', 6), ('shading', 6), ('launching', 6), ('common', 6), ('question', 6), ('images', 6), ('spending', 6), ('international', 6), ('chinese', 6), ('starbucks', 6), ('urfriendsallie', 6), ('middle', 6), ('possible', 6), ('gun', 6), ('content', 6), ('v2', 6), ('train', 6), ('programming', 6), ('gdpr', 6), ('mr', 6), ('35', 6), ('genealogy', 6), ('databases', 6), ('federal', 6), ('trial', 6), ('merkel', 6), ('statement', 6), ('quarter', 6), ('cambridge', 6), ('13', 6), ('tests', 6), ('types', 6), ('assault', 6), ('arizona', 6), ('improve', 6), ('aren', 6), ('happened', 6), ('3d', 6), ('tale', 6), ('uses', 6), ('skills', 6), ('dataviz', 6), ('congratulations', 6), ('detection', 6), ('military', 6), ('cognitive', 6), ('map', 6), ('speech', 6), ('honored', 6), ('nasa', 6), ('classification', 6), ('electric', 6), ('enterprise', 6), ('q1', 6), ('meganrosedickey', 6), ('musk', 6), ('ar', 6), ('sessions', 6), ('profits', 6), ('xbox', 6), ('prayers', 6), ('gop', 6), ('hillary', 6), ('justice', 6), ('oracle', 6), ('java9', 6), ('murder', 6), ('ronny', 6), ('jackson', 6), ('sen', 6), ('throwing', 5), ('employees', 5), ('provide', 5), ('secrets', 5), ('customer', 5), ('lazy', 5), ('absolutely', 5), ('feels', 5), ('important', 5), ('arrived', 5), ('weird', 5), ('mention', 5), ('foreign', 5), ('products', 5), ('gone', 5), ('film', 5), ('camera', 5), ('offer', 5), ('mixtape', 5), ('kroger', 5), ('aint', 5), ('currently', 5), ('nme', 5), ('site', 5), ('stores', 5), ('guys', 5), ('quick', 5), ('honestly', 5), ('ball', 5), ('peace', 5), ('environment', 5), ('happen', 5), ('taken', 5), ('awesome', 5), ('match', 5), ('dressed', 5), ('half', 5), ('type', 5), ('ground', 5), ('busy', 5), ('nbc', 5), ('funeral', 5), ('ya', 5), ('friday', 5), ('sean', 5), ('mission', 5), ('fortnite', 5), ('address', 5), ('moving', 5), ('university', 5), ('tiny', 5), ('email', 5), ('adventure', 5), ('dare', 5), ('write', 5), ('nicki', 5), ('hosted', 5), ('entertainment', 5), ('releases', 5), ('al', 5), ('francisco', 5), ('pressure', 5), ('drops', 5), ('british', 5), ('concerns', 5), ('opportunity', 5), ('5th', 5), ('attend', 5), ('tight', 5), ('wont', 5), ('ray', 5), ('son', 5), ('hiring', 5), ('magic', 5), ('drives', 5), ('popped', 5), ('lots', 5), ('ethereum', 5), ('approach', 5), ('hunt', 5), ('coin', 5), ('stolen', 5), ('paying', 5), ('businesses', 5), ('continues', 5), ('staff', 5), ('safety', 5), ('bought', 5), ('token', 5), ('economic', 5), ('sanctions', 5), ('number', 5), ('directly', 5), ('hackers', 5), ('sec', 5), ('automatically', 5), ('development', 5), ('central', 5), ('canada', 5), ('truth', 5), ('authority', 5), ('attention', 5), ('tuesday', 5), ('totally', 5), ('banking', 5), ('2nd', 5), ('pass', 5), ('small', 5), ('regulate', 5), ('bunch', 5), ('album', 5), ('identity', 5), ('mother', 5), ('deserve', 5), ('trending', 5), ('officially', 5), ('gender', 5), ('insane', 5), ('recognize', 5), ('generation', 5), ('stuck', 5), ('alive', 5), ('verse', 5), ('memes', 5), ('heart', 5), ('throw', 5), ('americans', 5), ('wears', 5), ('hopefully', 5), ('appreciate', 5), ('bright', 5), ('carbon', 5), ('tristan', 5), ('2013', 5), ('killin', 5), ('kendall', 5), ('felt', 5), ('cat', 5), ('fame', 5), ('jennifer', 5), ('recognition', 5), ('sings', 5), ('marriage', 5), ('tweeted', 5), ('clinton', 5), ('lip', 5), ('husband', 5), ('leaked', 5), ('yesterday', 5), ('partners', 5), ('hand', 5), ('ruined', 5), ('introduce', 5), ('given', 5), ('upcoming', 5), ('lyrics', 5), ('piece', 5), ('hosting', 5), ('revealed', 5), ('traffic', 5), ('function', 5), ('garbage', 5), ('kourtneykardash', 5), ('puts', 5), ('martin', 5), ('driven', 5), ('road', 5), ('debate', 5), ('female', 5), ('ending', 5), ('tough', 5), ('truly', 5), ('covering', 5), ('political', 5), ('core', 5), ('students', 5), ('breakfast', 5), ('ma', 5), ('commercial', 5), ('players', 5), ('jerry', 5), ('linked', 5), ('isn', 5), ('engine', 5), ('experiences', 5), ('county', 5), ('computerscience', 5), ('active', 5), ('delayed', 5), ('chaplain', 5), ('attacks', 5), ('dna', 5), ('standards', 5), ('legal', 5), ('boxes', 5), ('angela', 5), ('britain', 5), ('concepts', 5), ('modern', 5), ('cross', 5), ('andrea', 5), ('constand', 5), ('corporate', 5), ('master', 5), ('panel', 5), ('evidence', 5), ('joseph', 5), ('louis', 5), ('annual', 5), ('moon', 5), ('agreed', 5), ('offers', 5), ('koreas', 5), ('pistol', 5), ('box', 5), ('sources', 5), ('administration', 5), ('boston', 5), ('advanced', 5), ('macron', 5), ('driver', 5), ('controls', 5), ('strategy', 5), ('changes', 5), ('hotspot', 5), ('feature', 5), ('turns', 5), ('calm', 5), ('component', 5), ('predictionmonk', 5), ('interactive', 5), ('tools', 5), ('practical', 5), ('industrial', 5), ('anomaly', 5), ('edition', 5), ('prediction', 5), ('technologies', 5), ('projects', 5), ('opportunities', 5), ('ronald_vanloon', 5), ('scientist', 5), ('recommendations', 5), ('lucasmtny', 5), ('race', 5), ('trillion', 5), ('jordanrcrook', 5), ('ingridlunden', 5), ('mjburnsy', 5), ('browser', 5), ('moviepass', 5), ('katie_roof', 5), ('comcast', 5), ('tvs', 5), ('nintendos', 5), ('profit', 5), ('helps', 5), ('huawei', 5), ('growth', 5), ('standalone', 5), ('maps', 5), ('numbers', 5), ('networks', 5), ('functions', 5), ('fear', 5), ('escape', 5), ('brings', 5), ('labor', 5), ('anniversary', 5), ('ethics', 5), ('percent', 5), ('illegal', 5), ('echo', 5), ('builds', 5), ('exclusive', 5), ('wounded', 5), ('classified', 5), ('melania', 5), ('tennessee', 5), ('cuts', 5), ('disaster', 5), ('abeshinzo', 5), ('attack', 5), ('syria', 5), ('announcing', 5), ('deputy', 5), ('jep', 5), ('eclipse', 5), ('ee', 5), ('collector', 5), ('dow', 5), ('themasonramsey', 5), ('johnlegend', 5)]\n",
      "1623\n"
     ]
    }
   ],
   "source": [
    "isSpam = df['label'] == '1'\n",
    "notSpam = df['label'] == '0'\n",
    "spam = df[isSpam]\n",
    "spam = spam['tweet']\n",
    "spamwords = count_vector.fit_transform(spam)\n",
    "sum_words = spamwords.sum(axis=0)\n",
    "words_freq = [(word, sum_words[0, idx]) for word, idx in count_vector.vocabulary_.items()]\n",
    "print(sorted(words_freq, key = lambda x: x[1], reverse=True))\n",
    "print(len(sorted(words_freq, key = lambda x: x[1], reverse=True)))\n"
   ]
  },
  {
   "cell_type": "markdown",
   "metadata": {},
   "source": [
    "The following sorts every word in tweets not labeled spam by frequency. The most frequent words are kardashian(1045 appearances), kim(522), cryptocurrency(242), new(231) and like(204). "
   ]
  },
  {
   "cell_type": "code",
   "execution_count": 18,
   "metadata": {
    "collapsed": false
   },
   "outputs": [
    {
     "name": "stdout",
     "output_type": "stream",
     "text": [
      "[('https', 4510), ('kardashian', 1045), ('kim', 522), ('rt', 420), ('cryptocurrency', 242), ('new', 231), ('like', 204), ('just', 200), ('click', 182), ('nhttps', 176), ('shopping', 156), ('java', 154), ('khloe', 151), ('people', 149), ('kardashians', 143), ('data', 127), ('playing', 125), ('baby', 124), ('ai', 118), ('jenner', 112), ('love', 105), ('trump', 99), ('good', 98), ('amp', 97), ('make', 93), ('im', 92), ('bigdata', 91), ('kourtney', 90), ('time', 88), ('listen', 83), ('west', 81), ('president', 81), ('bitcoin', 81), ('know', 77), ('free', 77), ('look', 76), ('great', 76), ('machinelearning', 75), ('datascience', 75), ('news', 73), ('8rnluayhzd', 72), ('day', 71), ('come', 70), ('think', 69), ('north', 69), ('abdsc', 69), ('dont', 68), ('congress', 68), ('need', 67), ('house', 67), ('learning', 67), ('video', 65), ('today', 63), ('going', 63), ('year', 61), ('really', 61), ('watch', 61), ('kylie', 61), ('big', 59), ('facebook', 59), ('japan', 59), ('pink', 58), ('2018', 58), ('years', 58), ('korea', 56), ('youtube', 55), ('blockchain', 54), ('shows', 53), ('want', 52), ('say', 52), ('mexicos', 52), ('machine', 52), ('kids', 51), ('approves', 51), ('says', 51), ('best', 50), ('artificialintelligence', 50), ('10', 49), ('app', 49), ('join', 49), ('world', 48), ('regulations', 48), ('making', 47), ('got', 46), ('did', 46), ('using', 46), ('celebrity', 46), ('live', 45), ('week', 45), ('babies', 45), ('life', 44), ('looking', 44), ('don', 44), ('help', 44), ('use', 44), ('bump', 43), ('tokyo', 43), ('better', 42), ('white', 42), ('family', 42), ('kanye', 42), ('work', 42), ('crowdfunding', 42), ('famous', 42), ('amazon', 41), ('money', 41), ('way', 41), ('said', 41), ('project', 41), ('beyonce', 41), ('does', 40), ('science', 40), ('state', 40), ('game', 39), ('march', 38), ('pay', 38), ('kimkardashian', 38), ('nuclear', 38), ('looks', 38), ('google', 37), ('feel', 37), ('100', 37), ('ex', 37), ('gt', 37), ('official', 37), ('crypto', 37), ('future', 36), ('snapchat', 36), ('old', 36), ('pregnant', 35), ('datasciencectrl', 35), ('support', 34), ('pretty', 34), ('man', 33), ('set', 33), ('happy', 33), ('cute', 32), ('things', 32), ('james', 32), ('funding', 32), ('jenners', 32), ('intelligence', 32), ('python', 32), ('try', 31), ('india', 31), ('check', 30), ('buy', 30), ('lot', 30), ('getting', 30), ('coming', 30), ('giving', 30), ('ready', 29), ('body', 29), ('home', 29), ('women', 29), ('list', 29), ('right', 29), ('vogue', 29), ('super', 29), ('nsa', 29), ('program', 29), ('artificial', 29), ('stop', 28), ('based', 28), ('let', 28), ('beautiful', 28), ('star', 28), ('online', 27), ('trip', 27), ('thank', 27), ('end', 27), ('girl', 27), ('shade', 26), ('liked', 26), ('android', 26), ('little', 26), ('music', 26), ('twitter', 26), ('link', 26), ('airdrop', 26), ('internet', 26), ('social', 26), ('iot', 26), ('fake', 26), ('real', 26), ('tutorial', 26), ('comey', 26), ('lol', 25), ('birthday', 25), ('hollywood', 25), ('business', 25), ('learn', 25), ('police', 25), ('instagram', 25), ('keeping', 25), ('killer', 25), ('went', 24), ('makes', 24), ('win', 24), ('story', 24), ('song', 24), ('series', 24), ('talk', 24), ('review', 24), ('media', 24), ('children', 24), ('outfit', 24), ('doing', 23), ('told', 23), ('having', 23), ('night', 23), ('beauty', 23), ('favorite', 23), ('post', 23), ('training', 23), ('npumpkin', 23), ('nfollow', 23), ('pumpkinpayteam', 23), ('ppkc', 23), ('used', 23), ('model', 23), ('thing', 23), ('golden', 23), ('definitely', 22), ('car', 22), ('woman', 22), ('ass', 22), ('service', 22), ('watching', 22), ('11', 22), ('rob', 22), ('office', 22), ('youre', 22), ('cosby', 22), ('analyticbridge', 22), ('deep', 22), ('microsoft', 22), ('cnnmoney', 22), ('away', 21), ('book', 21), ('actually', 21), ('smart', 21), ('open', 21), ('deal', 21), ('taking', 21), ('makeup', 21), ('tv', 21), ('times', 21), ('latest', 21), ('report', 21), ('biggest', 21), ('features', 21), ('apple', 21), ('deeplearning', 21), ('yall', 20), ('hate', 20), ('thought', 20), ('store', 20), ('lets', 20), ('hair', 20), ('care', 20), ('black', 20), ('gets', 20), ('michael', 20), ('meeting', 20), ('bad', 20), ('finally', 20), ('wants', 20), ('believe', 20), ('stormi', 20), ('nintendo', 20), ('jdk', 20), ('comes', 19), ('friend', 19), ('asked', 19), ('self', 19), ('friends', 19), ('hit', 19), ('director', 19), ('thanks', 19), ('days', 19), ('articles', 19), ('war', 19), ('close', 19), ('movie', 19), ('launches', 19), ('run', 19), ('million', 19), ('pics', 19), ('jenna', 19), ('fischer', 19), ('build', 19), ('shit', 18), ('dress', 18), ('china', 18), ('party', 18), ('ve', 18), ('perfect', 18), ('tell', 18), ('mobile', 18), ('soon', 18), ('gonna', 18), ('doesnt', 18), ('questions', 18), ('needs', 18), ('picture', 18), ('months', 18), ('california', 18), ('tweet', 18), ('south', 18), ('code', 18), ('thats', 18), ('building', 18), ('boozallen', 18), ('session', 18), ('food', 17), ('photos', 17), ('problem', 17), ('guide', 17), ('company', 17), ('girls', 17), ('runs', 17), ('yes', 17), ('fancy', 17), ('morning', 17), ('follow', 17), ('celeb', 17), ('heres', 17), ('high', 17), ('reality', 17), ('launch', 17), ('analysis', 17), ('000', 17), ('shes', 17), ('fans', 17), ('led', 17), ('called', 17), ('prime', 17), ('investigation', 17), ('fbi', 17), ('city', 16), ('long', 16), ('read', 16), ('play', 16), ('men', 16), ('phone', 16), ('fun', 16), ('th', 16), ('trying', 16), ('america', 16), ('gave', 16), ('ago', 16), ('sure', 16), ('create', 16), ('tonight', 16), ('uber', 16), ('sex', 16), ('seen', 16), ('calls', 16), ('tech', 16), ('meet', 16), ('took', 16), ('security', 16), ('place', 16), ('sisters', 16), ('strong', 16), ('khlo', 16), ('fact', 16), ('second', 16), ('research', 16), ('human', 16), ('case', 16), ('algorithms', 16), ('york', 16), ('court', 16), ('russia', 16), ('windows', 16), ('start', 15), ('change', 15), ('weekend', 15), ('update', 15), ('far', 15), ('hope', 15), ('opens', 15), ('working', 15), ('oh', 15), ('market', 15), ('20', 15), ('dream', 15), ('team', 15), ('scott', 15), ('young', 15), ('mike', 15), ('red', 15), ('forward', 15), ('worlds', 15), ('btc', 15), ('guy', 15), ('partner', 15), ('korean', 15), ('person', 15), ('kid', 15), ('god', 15), ('country', 15), ('kuwtk', 15), ('kyliejenner', 15), ('throws', 15), ('shares', 15), ('sister', 15), ('fan', 15), ('history', 15), ('workout', 15), ('adamgbascle', 15), ('breaking', 15), ('robots', 15), ('special', 15), ('bush', 15), ('cnnpolitics', 15), ('grocery', 14), ('maybe', 14), ('omg', 14), ('plans', 14), ('travel', 14), ('worth', 14), ('thinking', 14), ('lost', 14), ('hands', 14), ('closet', 14), ('month', 14), ('ill', 14), ('interview', 14), ('amazing', 14), ('thoughts', 14), ('season', 14), ('fight', 14), ('water', 14), ('chicago', 14), ('recent', 14), ('talking', 14), ('power', 14), ('class', 14), ('lawsuit', 14), ('community', 14), ('platform', 14), ('cutest', 14), ('met', 14), ('judge', 14), ('remove', 14), ('jacket', 14), ('selfie', 14), ('street', 14), ('mean', 14), ('jets', 14), ('cream', 14), ('local', 14), ('senate', 14), ('incredible', 14), ('analytics', 14), ('switch', 14), ('wanna', 13), ('stay', 13), ('tax', 13), ('personal', 13), ('idea', 13), ('came', 13), ('fuck', 13), ('didnt', 13), ('available', 13), ('wait', 13), ('tried', 13), ('ask', 13), ('2017', 13), ('hell', 13), ('states', 13), ('sorry', 13), ('campaign', 13), ('early', 13), ('xwn5a0mrku', 13), ('25', 13), ('huge', 13), ('50', 13), ('ceo', 13), ('announced', 13), ('users', 13), ('wanted', 13), ('turn', 13), ('anime', 13), ('12', 13), ('genes', 13), ('child', 13), ('yeezy', 13), ('khloekardashian', 13), ('models', 13), ('netflix', 13), ('despite', 13), ('isnt', 13), ('record', 13), ('paul', 13), ('waffle', 13), ('alexa', 13), ('prince', 13), ('nshop', 13), ('introduction', 13), ('died', 13), ('vr', 13), ('funny', 12), ('goes', 12), ('didn', 12), ('cause', 12), ('iphone', 12), ('hi', 12), ('target', 12), ('dead', 12), ('bar', 12), ('design', 12), ('ni', 12), ('summer', 12), ('fashion', 12), ('apps', 12), ('hear', 12), ('startup', 12), ('inside', 12), ('agree', 12), ('nclick', 12), ('classic', 12), ('steps', 12), ('information', 12), ('left', 12), ('theres', 12), ('major', 12), ('fucking', 12), ('school', 12), ('beyonc', 12), ('15', 12), ('minutes', 12), ('excited', 12), ('key', 12), ('trade', 12), ('seeing', 12), ('europe', 12), ('following', 12), ('heard', 12), ('russian', 12), ('officials', 12), ('ugly', 12), ('virtual', 12), ('minister', 12), ('american', 12), ('tweets', 12), ('cover', 12), ('butt', 12), ('face', 12), ('kylies', 12), ('reportedly', 12), ('leave', 12), ('childrens', 12), ('chance', 12), ('killed', 12), ('sight', 12), ('file', 12), ('ford', 12), ('processing', 12), ('lawyer', 12), ('decision', 12), ('border', 12), ('ways', 12), ('resources', 12), ('datascientists', 12), ('kirkdborne', 12), ('search', 12), ('bheater', 12), ('splittinguptogether', 12), ('image', 11), ('pick', 11), ('saturday', 11), ('photo', 11), ('hey', 11), ('hard', 11), ('center', 11), ('earth', 11), ('books', 11), ('mom', 11), ('500', 11), ('including', 11), ('saw', 11), ('remember', 11), ('daughter', 11), ('pyeongchang', 11), ('organized', 11), ('united', 11), ('miss', 11), ('simple', 11), ('royal', 11), ('videos', 11), ('bring', 11), ('wish', 11), ('save', 11), ('nice', 11), ('clean', 11), ('public', 11), ('mark', 11), ('icymi', 11), ('applications', 11), ('blac', 11), ('boy', 11), ('nyc', 11), ('ico', 11), ('founder', 11), ('released', 11), ('privacy', 11), ('vs', 11), ('point', 11), ('level', 11), ('figure', 11), ('creating', 11), ('thinks', 11), ('knew', 11), ('chyna', 11), ('massive', 11), ('regret', 11), ('relationship', 11), ('natural', 11), ('pam', 11), ('played', 11), ('suspect', 11), ('past', 11), ('exactly', 11), ('general', 11), ('crazy', 11), ('download', 11), ('line', 11), ('lives', 11), ('disney', 11), ('sexual', 11), ('behold', 11), ('realdonaldtrump', 11), ('cohen', 11), ('jong', 11), ('pompeo', 11), ('force', 11), ('vote', 11), ('insiderfood', 11), ('systems', 11), ('cloud', 11), ('spectacles', 11), ('software', 11), ('robot', 11), ('deep_learning', 11), ('api', 11), ('graalvm', 11), ('littlebigshots', 11), ('drop', 10), ('test', 10), ('non', 10), ('kind', 10), ('size', 10), ('damn', 10), ('near', 10), ('tomorrow', 10), ('welcome', 10), ('lmao', 10), ('speaker', 10), ('button', 10), ('mexico', 10), ('cool', 10), ('entire', 10), ('happens', 10), ('job', 10), ('lil', 10), ('words', 10), ('probably', 10), ('16', 10), ('east', 10), ('sign', 10), ('style', 10), ('inspired', 10), ('wrong', 10), ('event', 10), ('rules', 10), ('selling', 10), ('weeks', 10), ('plan', 10), ('honor', 10), ('parents', 10), ('games', 10), ('2016', 10), ('health', 10), ('risk', 10), ('40', 10), ('mining', 10), ('technology', 10), ('billion', 10), ('algorithm', 10), ('age', 10), ('started', 10), ('uk', 10), ('interesting', 10), ('pregnancy', 10), ('related', 10), ('clan', 10), ('paid', 10), ('sexy', 10), ('ive', 10), ('collide', 10), ('gush', 10), ('arrested', 10), ('issue', 10), ('hilarious', 10), ('sweatpants', 10), ('step', 10), ('talks', 10), ('tvshow', 10), ('stories', 10), ('struggles', 10), ('statistics', 10), ('hearing', 10), ('zuckerberg', 10), ('april', 10), ('election', 10), ('avengers', 10), ('leader', 10), ('gmail', 10), ('earnings', 10), ('cars', 10), ('granvilledsc', 10), ('openjdk', 10), ('oraclejavamag', 10), ('developer', 10), ('wear', 9), ('lady', 9), ('random', 9), ('sales', 9), ('daily', 9), ('gives', 9), ('bet', 9), ('cities', 9), ('bag', 9), ('olympics', 9), ('career', 9), ('complete', 9), ('brain', 9), ('collection', 9), ('monday', 9), ('rich', 9), ('understand', 9), ('magazine', 9), ('dragon', 9), ('stunning', 9), ('easy', 9), ('17', 9), ('pair', 9), ('missed', 9), ('bit', 9), ('taxes', 9), ('la', 9), ('block', 9), ('rest', 9), ('jack', 9), ('startups', 9), ('wow', 9), ('manufacturing', 9), ('approved', 9), ('nthe', 9), ('computers', 9), ('verge', 9), ('revolution', 9), ('means', 9), ('iran', 9), ('starting', 9), ('language', 9), ('positive', 9), ('share', 9), ('price', 9), ('sleep', 9), ('saying', 9), ('double', 9), ('cnn', 9), ('ll', 9), ('dinner', 9), ('selfies', 9), ('hype', 9), ('reason', 9), ('cleavage', 9), ('sizzles', 9), ('crop', 9), ('living', 9), ('kill', 9), ('gorgeous', 9), ('course', 9), ('talent', 9), ('shots', 9), ('tiffany', 9), ('whats', 9), ('reveals', 9), ('speak', 9), ('celebritywills', 9), ('death', 9), ('arrives', 9), ('different', 9), ('george', 9), ('stars', 9), ('insecurities', 9), ('andkim', 9), ('cyberpunkfm', 9), ('harris_andrews3', 9), ('wall', 9), ('joshconstine', 9), ('philadelphia', 9), ('briefing', 9), ('counsel', 9), ('nytopinion', 9), ('democrats', 9), ('law', 9), ('guilty', 9), ('leaders', 9), ('secretary', 9), ('committee', 9), ('thursday', 9), ('demand', 9), ('shooting', 9), ('release', 9), ('researchers', 9), ('labo', 9), ('raises', 9), ('performance', 9), ('memos', 9), ('attorney', 9), ('coast', 9), ('clothes', 8), ('tells', 8), ('value', 8), ('experience', 8), ('color', 8), ('options', 8), ('drink', 8), ('gotta', 8), ('hours', 8), ('bath', 8), ('hes', 8), ('rapper', 8), ('fully', 8), ('asking', 8), ('wedding', 8), ('stuff', 8), ('instead', 8), ('enter', 8), ('dog', 8), ('loved', 8), ('san', 8), ('chocolate', 8), ('large', 8), ('battle', 8), ('track', 8), ('french', 8), ('emergency', 8), ('calling', 8), ('se', 8), ('winning', 8), ('yeah', 8), ('theyre', 8), ('signs', 8), ('announce', 8), ('episode', 8), ('lt', 8), ('celebs', 8), ('jobs', 8), ('blue', 8), ('john', 8), ('air', 8), ('sunday', 8), ('room', 8), ('yo', 8), ('matter', 8), ('feeling', 8), ('low', 8), ('adoption', 8), ('government', 8), ('crowdfundingregulations', 8), ('digital', 8), ('article', 8), ('imagine', 8), ('financial', 8), ('gaming', 8), ('network', 8), ('crime', 8), ('economy', 8), ('killing', 8), ('benefits', 8), ('fine', 8), ('head', 8), ('samsung', 8), ('changing', 8), ('potential', 8), ('useful', 8), ('popular', 8), ('skin', 8), ('respect', 8), ('final', 8), ('ok', 8), ('bro', 8), ('voice', 8), ('eyes', 8), ('prison', 8), ('interested', 8), ('celebrities', 8), ('pranking', 8), ('named', 8), ('mini', 8), ('okay', 8), ('stormy', 8), ('text', 8), ('press', 8), ('filter', 8), ('june', 8), ('hotel', 8), ('culture', 8), ('hot', 8), ('maga', 8), ('37', 8), ('posts', 8), ('spend', 8), ('orders', 8), ('later', 8), ('broke', 8), ('haddish', 8), ('secret', 8), ('computer', 8), ('debuts', 8), ('badly', 8), ('takes', 8), ('lead', 8), ('proud', 8), ('emoji', 8), ('cases', 8), ('airport', 8), ('sent', 8), ('washington', 8), ('likely', 8), ('services', 8), ('touch', 8), ('crash', 8), ('elon', 8), ('access', 8), ('decades', 8), ('nfl', 8), ('draft', 8), ('humans', 8), ('focus', 8), ('pruitt', 8), ('30', 8), ('pro', 8), ('neuralnetworks', 8), ('cheat', 8), ('boozdatascience', 8), ('devices', 8), ('sheet', 8), ('scientists', 8), ('streaming', 8), ('bringing', 8), ('user', 8), ('architecture', 8), ('apache', 8), ('multiple', 8), ('abc', 8), ('whitehouse', 8), ('barbara', 8), ('florida', 8), ('machine_learning', 8), ('java10', 8), ('toronto', 8), ('shop', 7), ('trash', 7), ('guess', 7), ('cart', 7), ('card', 7), ('especially', 7), ('moment', 7), ('22', 7), ('everyday', 7), ('studio', 7), ('closed', 7), ('literally', 7), ('spring', 7), ('bc', 7), ('pictures', 7), ('largest', 7), ('24', 7), ('normal', 7), ('cut', 7), ('global', 7), ('blog', 7), ('medical', 7), ('david', 7), ('art', 7), ('message', 7), ('player', 7), ('unique', 7), ('pattern', 7), ('sell', 7), ('product', 7), ('board', 7), ('wonder', 7), ('football', 7), ('mi', 7), ('updated', 7), ('mad', 7), ('wa', 7), ('lamar', 7), ('18', 7), ('fat', 7), ('charged', 7), ('historic', 7), ('sick', 7), ('break', 7), ('worse', 7), ('investment', 7), ('developments', 7), ('higher', 7), ('concept', 7), ('ripple', 7), ('replace', 7), ('faces', 7), ('cybersecurity', 7), ('waiting', 7), ('sees', 7), ('database', 7), ('vision', 7), ('forces', 7), ('return', 7), ('disrupt', 7), ('powerful', 7), ('math', 7), ('tool', 7), ('tape', 7), ('robert', 7), ('table', 7), ('sitting', 7), ('wearing', 7), ('growing', 7), ('af', 7), ('bitch', 7), ('havent', 7), ('skirt', 7), ('eat', 7), ('obsessed', 7), ('born', 7), ('loves', 7), ('testing', 7), ('running', 7), ('fox', 7), ('starts', 7), ('fired', 7), ('round', 7), ('terrible', 7), ('prank', 7), ('forget', 7), ('outside', 7), ('pop', 7), ('brother', 7), ('swear', 7), ('bumps', 7), ('princess', 7), ('single', 7), ('france', 7), ('view', 7), ('keeps', 7), ('hour', 7), ('snap', 7), ('answer', 7), ('beat', 7), ('wife', 7), ('order', 7), ('hold', 7), ('ryan', 7), ('tesla', 7), ('obama', 7), ('tour', 7), ('original', 7), ('mode', 7), ('tasks', 7), ('member', 7), ('infinity', 7), ('daniels', 7), ('nlp', 7), ('experts', 7), ('flight', 7), ('solve', 7), ('evening', 7), ('officers', 7), ('smartphone', 7), ('chief', 7), ('selected', 7), ('avengersinfinitywar', 7), ('seven', 7), ('longer', 7), ('neural', 7), ('industry', 7), ('methods', 7), ('differences', 7), ('wars', 7), ('challenges', 7), ('application', 7), ('ideas', 7), ('redesign', 7), ('facebooks', 7), ('fredericl', 7), ('memory', 7), ('sharing', 7), ('ibm', 7), ('quickly', 7), ('client', 7), ('criminal', 7), ('department', 7), ('chatbot', 7), ('microservices', 7), ('jvm', 7), ('baeldung', 7), ('pedestrians', 7), ('van', 7), ('thankssponsor', 7), ('em', 6), ('complex', 6), ('dad', 6), ('losing', 6), ('hire', 6), ('shoes', 6), ('ended', 6), ('area', 6), ('source', 6), ('anymore', 6), ('rock', 6), ('drunk', 6), ('turning', 6), ('dollars', 6), ('explain', 6), ('hidden', 6), ('todays', 6), ('listening', 6), ('packages', 6), ('haven', 6), ('teach', 6), ('brought', 6), ('101', 6), ('weekly', 6), ('gold', 6), ('driving', 6), ('marketing', 6), ('ii', 6), ('assistant', 6), ('visit', 6), ('nby', 6), ('podcast', 6), ('mind', 6), ('club', 6), ('ends', 6), ('fund', 6), ('education', 6), ('monthly', 6), ('featured', 6), ('ahead', 6), ('nearly', 6), ('broken', 6), ('setting', 6), ('wonderful', 6), ('donald', 6), ('sports', 6), ('minaj', 6), ('remix', 6), ('21', 6), ('jail', 6), ('everybody', 6), ('page', 6), ('private', 6), ('short', 6), ('involved', 6), ('version', 6), ('fr', 6), ('ft', 6), ('king', 6), ('exchange', 6), ('views', 6), ('innovation', 6), ('demands', 6), ('trading', 6), ('mexican', 6), ('secure', 6), ('website', 6), ('group', 6), ('basic', 6), ('regulation', 6), ('fintech', 6), ('national', 6), ('introduces', 6), ('easier', 6), ('documentary', 6), ('expect', 6), ('published', 6), ('events', 6), ('breaks', 6), ('healthcare', 6), ('aka', 6), ('reading', 6), ('total', 6), ('easily', 6), ('talked', 6), ('sold', 6), ('expert', 6), ('lawmakers', 6), ('points', 6), ('according', 6), ('youve', 6), ('names', 6), ('father', 6), ('viral', 6), ('tea', 6), ('known', 6), ('space', 6), ('problems', 6), ('birth', 6), ('tho', 6), ('smh', 6), ('putting', 6), ('paper', 6), ('pic', 6), ('eating', 6), ('lose', 6), ('convinced', 6), ('injapan', 6), ('clear', 6), ('spotify', 6), ('walmart', 6), ('inch', 6), ('eats', 6), ('shot', 6), ('kris', 6), ('adorable', 6), ('artist', 6), ('indian', 6), ('clothing', 6), ('dance', 6), ('ridiculous', 6), ('freaking', 6), ('knowledge', 6), ('14', 6), ('engadget', 6), ('form', 6), ('vogueindia', 6), ('bigger', 6), ('choose', 6), ('nkim', 6), ('clip', 6), ('role', 6), ('sending', 6), ('realize', 6), ('drake', 6), ('beats', 6), ('firing', 6), ('late', 6), ('dropped', 6), ('host', 6), ('crying', 6), ('shading', 6), ('launching', 6), ('common', 6), ('question', 6), ('images', 6), ('spending', 6), ('international', 6), ('chinese', 6), ('starbucks', 6), ('urfriendsallie', 6), ('middle', 6), ('possible', 6), ('gun', 6), ('content', 6), ('v2', 6), ('train', 6), ('programming', 6), ('gdpr', 6), ('mr', 6), ('35', 6), ('genealogy', 6), ('databases', 6), ('federal', 6), ('trial', 6), ('merkel', 6), ('statement', 6), ('quarter', 6), ('cambridge', 6), ('13', 6), ('tests', 6), ('types', 6), ('assault', 6), ('arizona', 6), ('improve', 6), ('aren', 6), ('happened', 6), ('3d', 6), ('tale', 6), ('uses', 6), ('skills', 6), ('dataviz', 6), ('congratulations', 6), ('detection', 6), ('military', 6), ('cognitive', 6), ('map', 6), ('speech', 6), ('honored', 6), ('nasa', 6), ('classification', 6), ('electric', 6), ('enterprise', 6), ('q1', 6), ('meganrosedickey', 6), ('musk', 6), ('ar', 6), ('sessions', 6), ('profits', 6), ('xbox', 6), ('prayers', 6), ('gop', 6), ('hillary', 6), ('justice', 6), ('oracle', 6), ('java9', 6), ('murder', 6), ('ronny', 6), ('jackson', 6), ('sen', 6), ('throwing', 5), ('employees', 5), ('provide', 5), ('secrets', 5), ('customer', 5), ('lazy', 5), ('absolutely', 5), ('feels', 5), ('important', 5), ('arrived', 5), ('weird', 5), ('mention', 5), ('foreign', 5), ('products', 5), ('gone', 5), ('film', 5), ('camera', 5), ('offer', 5), ('mixtape', 5), ('kroger', 5), ('aint', 5), ('currently', 5), ('nme', 5), ('site', 5), ('stores', 5), ('guys', 5), ('quick', 5), ('honestly', 5), ('ball', 5), ('peace', 5), ('environment', 5), ('happen', 5), ('taken', 5), ('awesome', 5), ('match', 5), ('dressed', 5), ('half', 5), ('type', 5), ('ground', 5), ('busy', 5), ('nbc', 5), ('funeral', 5), ('ya', 5), ('friday', 5), ('sean', 5), ('mission', 5), ('fortnite', 5), ('address', 5), ('moving', 5), ('university', 5), ('tiny', 5), ('email', 5), ('adventure', 5), ('dare', 5), ('write', 5), ('nicki', 5), ('hosted', 5), ('entertainment', 5), ('releases', 5), ('al', 5), ('francisco', 5), ('pressure', 5), ('drops', 5), ('british', 5), ('concerns', 5), ('opportunity', 5), ('5th', 5), ('attend', 5), ('tight', 5), ('wont', 5), ('ray', 5), ('son', 5), ('hiring', 5), ('magic', 5), ('drives', 5), ('popped', 5), ('lots', 5), ('ethereum', 5), ('approach', 5), ('hunt', 5), ('coin', 5), ('stolen', 5), ('paying', 5), ('businesses', 5), ('continues', 5), ('staff', 5), ('safety', 5), ('bought', 5), ('token', 5), ('economic', 5), ('sanctions', 5), ('number', 5), ('directly', 5), ('hackers', 5), ('sec', 5), ('automatically', 5), ('development', 5), ('central', 5), ('canada', 5), ('truth', 5), ('authority', 5), ('attention', 5), ('tuesday', 5), ('totally', 5), ('banking', 5), ('2nd', 5), ('pass', 5), ('small', 5), ('regulate', 5), ('bunch', 5), ('album', 5), ('identity', 5), ('mother', 5), ('deserve', 5), ('trending', 5), ('officially', 5), ('gender', 5), ('insane', 5), ('recognize', 5), ('generation', 5), ('stuck', 5), ('alive', 5), ('verse', 5), ('memes', 5), ('heart', 5), ('throw', 5), ('americans', 5), ('wears', 5), ('hopefully', 5), ('appreciate', 5), ('bright', 5), ('carbon', 5), ('tristan', 5), ('2013', 5), ('killin', 5), ('kendall', 5), ('felt', 5), ('cat', 5), ('fame', 5), ('jennifer', 5), ('recognition', 5), ('sings', 5), ('marriage', 5), ('tweeted', 5), ('clinton', 5), ('lip', 5), ('husband', 5), ('leaked', 5), ('yesterday', 5), ('partners', 5), ('hand', 5), ('ruined', 5), ('introduce', 5), ('given', 5), ('upcoming', 5), ('lyrics', 5), ('piece', 5), ('hosting', 5), ('revealed', 5), ('traffic', 5), ('function', 5), ('garbage', 5), ('kourtneykardash', 5), ('puts', 5), ('martin', 5), ('driven', 5), ('road', 5), ('debate', 5), ('female', 5), ('ending', 5), ('tough', 5), ('truly', 5), ('covering', 5), ('political', 5), ('core', 5), ('students', 5), ('breakfast', 5), ('ma', 5), ('commercial', 5), ('players', 5), ('jerry', 5), ('linked', 5), ('isn', 5), ('engine', 5), ('experiences', 5), ('county', 5), ('computerscience', 5), ('active', 5), ('delayed', 5), ('chaplain', 5), ('attacks', 5), ('dna', 5), ('standards', 5), ('legal', 5), ('boxes', 5), ('angela', 5), ('britain', 5), ('concepts', 5), ('modern', 5), ('cross', 5), ('andrea', 5), ('constand', 5), ('corporate', 5), ('master', 5), ('panel', 5), ('evidence', 5), ('joseph', 5), ('louis', 5), ('annual', 5), ('moon', 5), ('agreed', 5), ('offers', 5), ('koreas', 5), ('pistol', 5), ('box', 5), ('sources', 5), ('administration', 5), ('boston', 5), ('advanced', 5), ('macron', 5), ('driver', 5), ('controls', 5), ('strategy', 5), ('changes', 5), ('hotspot', 5), ('feature', 5), ('turns', 5), ('calm', 5), ('component', 5), ('predictionmonk', 5), ('interactive', 5), ('tools', 5), ('practical', 5), ('industrial', 5), ('anomaly', 5), ('edition', 5), ('prediction', 5), ('technologies', 5), ('projects', 5), ('opportunities', 5), ('ronald_vanloon', 5), ('scientist', 5), ('recommendations', 5), ('lucasmtny', 5), ('race', 5), ('trillion', 5), ('jordanrcrook', 5), ('ingridlunden', 5), ('mjburnsy', 5), ('browser', 5), ('moviepass', 5), ('katie_roof', 5), ('comcast', 5), ('tvs', 5), ('nintendos', 5), ('profit', 5), ('helps', 5), ('huawei', 5), ('growth', 5), ('standalone', 5), ('maps', 5), ('numbers', 5), ('networks', 5), ('functions', 5), ('fear', 5), ('escape', 5), ('brings', 5), ('labor', 5), ('anniversary', 5), ('ethics', 5), ('percent', 5), ('illegal', 5), ('echo', 5), ('builds', 5), ('exclusive', 5), ('wounded', 5), ('classified', 5), ('melania', 5), ('tennessee', 5), ('cuts', 5), ('disaster', 5), ('abeshinzo', 5), ('attack', 5), ('syria', 5), ('announcing', 5), ('deputy', 5), ('jep', 5), ('eclipse', 5), ('ee', 5), ('collector', 5), ('dow', 5), ('themasonramsey', 5), ('johnlegend', 5)]\n",
      "1623\n"
     ]
    }
   ],
   "source": [
    "ham = df[notSpam]\n",
    "ham = ham['tweet']\n",
    "hamwords = count_vector.fit_transform(ham)\n",
    "\n",
    "sum_words = hamwords.sum(axis=0)\n",
    "words_freq = [(word, sum_words[0, idx]) for word, idx in count_vector.vocabulary_.items()]\n",
    "print(sorted(words_freq, key = lambda x: x[1], reverse=True))\n",
    "print(len(sorted(words_freq, key = lambda x: x[1], reverse=True)))"
   ]
  },
  {
   "cell_type": "code",
   "execution_count": 8,
   "metadata": {
    "collapsed": false
   },
   "outputs": [],
   "source": [
    "from sklearn.cross_validation import train_test_split\n",
    "X_train, X_test, y_train, y_test = train_test_split(df['tweet'], df['label'], random_state=1)\n",
    "training_data = count_vector.fit_transform(X_train)\n",
    "testing_data = count_vector.transform(X_test)"
   ]
  },
  {
   "cell_type": "code",
   "execution_count": null,
   "metadata": {
    "collapsed": true
   },
   "outputs": [],
   "source": []
  },
  {
   "cell_type": "code",
   "execution_count": 6,
   "metadata": {
    "collapsed": false
   },
   "outputs": [
    {
     "name": "stdout",
     "output_type": "stream",
     "text": [
      "Number of rows in the total set: 13058\n",
      "Number of rows in the training set: 9793\n",
      "Number of rows in the test set: 3265\n"
     ]
    }
   ],
   "source": [
    "print('Number of rows in the total set: {}'.format(df.shape[0]))\n",
    "print('Number of rows in the training set: {}'.format(X_train.shape[0]))\n",
    "print('Number of rows in the test set: {}'.format(X_test.shape[0]))"
   ]
  },
  {
   "cell_type": "code",
   "execution_count": null,
   "metadata": {
    "collapsed": true
   },
   "outputs": [],
   "source": []
  },
  {
   "cell_type": "code",
   "execution_count": 9,
   "metadata": {
    "collapsed": false
   },
   "outputs": [
    {
     "name": "stdout",
     "output_type": "stream",
     "text": [
      "SVM\n",
      "Accuracy score:  0.8637059724349158\n",
      "Precision score:  0.8637059724349158\n",
      "Recall score:  0.8637059724349158\n",
      "F1 score:  0.8637059724349158\n"
     ]
    }
   ],
   "source": [
    "from sklearn import svm\n",
    "print(\"SVM\")\n",
    "clf = svm.SVC(probability=True, C=1000)\n",
    "clf.fit(training_data,y_train)\n",
    "svmpredictions = clf.predict(testing_data)\n",
    "from sklearn.metrics import accuracy_score, precision_score, recall_score, f1_score\n",
    "print('Accuracy score: ', format(accuracy_score(y_test,svmpredictions )))\n",
    "print('Precision score: ', format(precision_score(y_test,svmpredictions,average='micro' )))\n",
    "print('Recall score: ', format(recall_score(y_test,svmpredictions,average='micro' )))\n",
    "print('F1 score: ', format(f1_score(y_test,svmpredictions,average='micro')))"
   ]
  },
  {
   "cell_type": "code",
   "execution_count": 10,
   "metadata": {
    "collapsed": false
   },
   "outputs": [
    {
     "name": "stdout",
     "output_type": "stream",
     "text": [
      "Iteration 1, loss = 0.60822418\n",
      "Iteration 2, loss = 0.28317016\n",
      "Iteration 3, loss = 0.21682388\n",
      "Iteration 4, loss = 0.17481220\n",
      "Iteration 5, loss = 0.14128008\n",
      "Iteration 6, loss = 0.11182816\n",
      "Iteration 7, loss = 0.09270734\n",
      "Iteration 8, loss = 0.07989894\n",
      "Iteration 9, loss = 0.07238263\n",
      "Iteration 10, loss = 0.06618951\n",
      "Iteration 11, loss = 0.06252192\n",
      "Iteration 12, loss = 0.06240368\n",
      "Iteration 13, loss = 0.05746110\n",
      "Iteration 14, loss = 0.05629867\n",
      "Iteration 15, loss = 0.05393966\n",
      "Iteration 16, loss = 0.05351072\n",
      "Iteration 17, loss = 0.05041549\n",
      "Iteration 18, loss = 0.05032314\n",
      "Iteration 19, loss = 0.04915702\n",
      "Iteration 20, loss = 0.04875020\n",
      "Iteration 21, loss = 0.04769428\n",
      "Iteration 22, loss = 0.04738353\n",
      "Iteration 23, loss = 0.04846534\n",
      "Iteration 24, loss = 0.04737059\n",
      "Iteration 25, loss = 0.04492462\n",
      "Iteration 26, loss = 0.04526192\n",
      "Iteration 27, loss = 0.04461115\n",
      "Iteration 28, loss = 0.04484084\n",
      "Iteration 29, loss = 0.04412003\n",
      "Iteration 30, loss = 0.04404542\n",
      "Iteration 31, loss = 0.04427466\n",
      "Iteration 32, loss = 0.04370005\n",
      "Iteration 33, loss = 0.04348140\n",
      "Iteration 34, loss = 0.04372960\n",
      "Iteration 35, loss = 0.04436130\n",
      "Iteration 36, loss = 0.04245310\n",
      "Iteration 37, loss = 0.04352024\n",
      "Iteration 38, loss = 0.04339703\n",
      "Iteration 39, loss = 0.04267155\n",
      "Training loss did not improve more than tol=0.000000 for two consecutive epochs. Stopping.\n",
      "Accuracy score:  0.8609494640122511\n",
      "Precision score:  0.8609494640122511\n",
      "Recall score:  0.8609494640122511\n",
      "F1 score:  0.8609494640122511\n"
     ]
    }
   ],
   "source": [
    "from sklearn.neural_network import MLPClassifier\n",
    "clf = MLPClassifier(hidden_layer_sizes=(100,100,100), max_iter=500, alpha=0.0001,\n",
    "                     solver='adam', verbose=10,  random_state=21,tol=0.000000001)\n",
    "clf.fit(training_data,y_train)\n",
    "predictions = clf.predict(testing_data)\n",
    "print(\"Multi-Layer Perceptron\")\n",
    "from sklearn.metrics import accuracy_score, precision_score, recall_score, f1_score\n",
    "print('Accuracy score: ', format(accuracy_score(y_test,predictions)))\n",
    "print('Precision score: ', format(precision_score(y_test,predictions,average='micro')))\n",
    "print('Recall score: ', format(recall_score(y_test,predictions,average='micro')))\n",
    "print('F1 score: ', format(f1_score(y_test,predictions,average='micro')))"
   ]
  },
  {
   "cell_type": "code",
   "execution_count": 11,
   "metadata": {
    "collapsed": false
   },
   "outputs": [
    {
     "name": "stdout",
     "output_type": "stream",
     "text": [
      "Naive Bayes\n",
      "Accuracy score:  0.845635528330781\n",
      "Precision score:  0.845635528330781\n",
      "Recall score:  0.845635528330781\n",
      "F1 score:  0.845635528330781\n"
     ]
    }
   ],
   "source": [
    "from sklearn.naive_bayes import MultinomialNB\n",
    "naive_bayes = MultinomialNB()\n",
    "naive_bayes.fit(training_data,y_train)\n",
    "predictions = naive_bayes.predict(testing_data)\n",
    "print(\"Naive Bayes\")\n",
    "from sklearn.metrics import accuracy_score, precision_score, recall_score, f1_score\n",
    "print('Accuracy score: ', format(accuracy_score(y_test,predictions)))\n",
    "print('Precision score: ', format(precision_score(y_test,predictions,average='micro')))\n",
    "print('Recall score: ', format(recall_score(y_test,predictions,average='micro')))\n",
    "print('F1 score: ', format(f1_score(y_test,predictions,average='micro')))"
   ]
  },
  {
   "cell_type": "code",
   "execution_count": 12,
   "metadata": {
    "collapsed": false
   },
   "outputs": [
    {
     "name": "stdout",
     "output_type": "stream",
     "text": [
      "Logistic Regression\n",
      "Accuracy score:  0.8704441041347626\n",
      "Precision score:  0.8704441041347626\n",
      "Recall score:  0.8704441041347626\n",
      "F1 score:  0.8704441041347626\n"
     ]
    },
    {
     "name": "stderr",
     "output_type": "stream",
     "text": [
      "/Users/sharimkhan/anaconda/lib/python3.6/site-packages/sklearn/linear_model/sag.py:326: ConvergenceWarning: The max_iter was reached which means the coef_ did not converge\n",
      "  \"the coef_ did not converge\", ConvergenceWarning)\n"
     ]
    }
   ],
   "source": [
    "print(\"Logistic Regression\")\n",
    "from sklearn import linear_model\n",
    "regr = linear_model.LogisticRegression(random_state=0, solver='sag')\n",
    "regr.fit(training_data,y_train)\n",
    "predictions = regr.predict(testing_data)\n",
    "print('Accuracy score: ', format(accuracy_score(y_test,predictions)))\n",
    "print('Precision score: ', format(precision_score(y_test,predictions,average='micro')))\n",
    "print('Recall score: ', format(recall_score(y_test,predictions,average='micro')))\n",
    "print('F1 score: ', format(f1_score(y_test,predictions,average='micro')))"
   ]
  },
  {
   "cell_type": "code",
   "execution_count": 13,
   "metadata": {
    "collapsed": false
   },
   "outputs": [
    {
     "name": "stdout",
     "output_type": "stream",
     "text": [
      "Random Forest\n",
      "Accuracy score:  0.8698315467075038\n",
      "Precision score:  0.8698315467075038\n",
      "Recall score:  0.8698315467075038\n",
      "F1 score:  0.8698315467075038\n"
     ]
    }
   ],
   "source": [
    "from sklearn.ensemble import RandomForestClassifier\n",
    "print(\"Random Forest\")\n",
    "clf = RandomForestClassifier(n_jobs=-1, random_state=0, criterion='gini')\n",
    "clf.fit(training_data,y_train)\n",
    "predictions = clf.predict(testing_data)\n",
    "print('Accuracy score: ', format(accuracy_score(y_test,predictions)))\n",
    "print('Precision score: ', format(precision_score(y_test,predictions,average='micro')))\n",
    "print('Recall score: ', format(recall_score(y_test,predictions,average='micro')))\n",
    "print('F1 score: ', format(f1_score(y_test,predictions,average='micro')))"
   ]
  },
  {
   "cell_type": "code",
   "execution_count": 14,
   "metadata": {
    "collapsed": false
   },
   "outputs": [
    {
     "name": "stdout",
     "output_type": "stream",
     "text": [
      "Tree\n",
      "Accuracy score:  0.8563552833078101\n",
      "Precision score:  0.8563552833078101\n",
      "Recall score:  0.8563552833078101\n",
      "F1 score:  0.8563552833078102\n"
     ]
    }
   ],
   "source": [
    "print(\"Tree\")\n",
    "from sklearn import tree\n",
    "clf = tree.DecisionTreeClassifier(criterion='gini', random_state=0)\n",
    "clf.fit(training_data,y_train)\n",
    "predictions = clf.predict(testing_data)\n",
    "print('Accuracy score: ', format(accuracy_score(y_test,predictions)))\n",
    "print('Precision score: ', format(precision_score(y_test,predictions,average='micro')))\n",
    "print('Recall score: ', format(recall_score(y_test,predictions,average='micro')))\n",
    "print('F1 score: ', format(f1_score(y_test,predictions,average='micro')))"
   ]
  },
  {
   "cell_type": "code",
   "execution_count": null,
   "metadata": {
    "collapsed": true
   },
   "outputs": [],
   "source": []
  }
 ],
 "metadata": {
  "kernelspec": {
   "display_name": "Python 3",
   "language": "python",
   "name": "python3"
  },
  "language_info": {
   "codemirror_mode": {
    "name": "ipython",
    "version": 3
   },
   "file_extension": ".py",
   "mimetype": "text/x-python",
   "name": "python",
   "nbconvert_exporter": "python",
   "pygments_lexer": "ipython3",
   "version": "3.6.4"
  }
 },
 "nbformat": 4,
 "nbformat_minor": 2
}
